{
 "cells": [
  {
   "cell_type": "code",
   "execution_count": 1,
   "id": "10693aff",
   "metadata": {},
   "outputs": [],
   "source": [
    "import json\n",
    "import os\n",
    "from collections import Counter\n",
    "\n",
    "import numpy as np"
   ]
  },
  {
   "cell_type": "code",
   "execution_count": 2,
   "id": "3bacffae",
   "metadata": {},
   "outputs": [],
   "source": [
    "from invargen.data.expression import *\n",
    "from invargen.data.tokens import *\n",
    "from invargen.data.tree import *"
   ]
  },
  {
   "cell_type": "code",
   "execution_count": 3,
   "id": "e9f138fa",
   "metadata": {},
   "outputs": [],
   "source": [
    "from invargen.data.expression import *\n",
    "from invargen_generic.operators import funcs as generic_funcs\n",
    "from invargen_generic.features import *"
   ]
  },
  {
   "cell_type": "code",
   "execution_count": 4,
   "id": "ed8c8869",
   "metadata": {},
   "outputs": [],
   "source": [
    "from gplearn.fitness import make_fitness\n",
    "from gplearn.functions import make_function\n",
    "from gplearn.genetic import SymbolicRegressor\n",
    "\n",
    "funcs = [make_function(**func._asdict()) for func in generic_funcs]"
   ]
  },
  {
   "cell_type": "code",
   "execution_count": 5,
   "id": "390b2dfa",
   "metadata": {},
   "outputs": [],
   "source": [
    "seed = 4"
   ]
  },
  {
   "cell_type": "code",
   "execution_count": 6,
   "id": "1110c7cb",
   "metadata": {},
   "outputs": [],
   "source": [
    "import torch\n",
    "from torch import Tensor\n",
    "\n",
    "device = torch.device('cpu')"
   ]
  },
  {
   "cell_type": "code",
   "execution_count": 7,
   "id": "276dfdc2",
   "metadata": {},
   "outputs": [],
   "source": [
    "from invargen_qlib.poly_data import PolyData\n",
    "\n",
    "data = PolyData(device=device)\n",
    "\n",
    "data_1 = PolyData(device=device)\n",
    "\n",
    "data_2 = PolyData(device=device)"
   ]
  },
  {
   "cell_type": "code",
   "execution_count": 8,
   "id": "115282b3",
   "metadata": {},
   "outputs": [
    {
     "data": {
      "text/plain": [
       "tensor([[[  1.,   1.,   1.,  ...,  49.,  51.,  51.],\n",
       "         [  0.,   1.,   0.,  ...,   1., -35.,  35.],\n",
       "         [  1.,   2.,   2.,  ...,  51.,  55.,  55.]]])"
      ]
     },
     "execution_count": 8,
     "metadata": {},
     "output_type": "execute_result"
    }
   ],
   "source": [
    "data.data"
   ]
  },
  {
   "cell_type": "code",
   "execution_count": null,
   "id": "7e6a22fa",
   "metadata": {},
   "outputs": [],
   "source": []
  },
  {
   "cell_type": "code",
   "execution_count": 9,
   "id": "04f03a55",
   "metadata": {},
   "outputs": [
    {
     "data": {
      "text/plain": [
       "tensor([[[  1.,   2.,   2.,  ...,  51.,  55.,  55.],\n",
       "         [ -0.,  -1.,  -0.,  ...,  -1.,  35., -35.],\n",
       "         [  1.,   1.,   1.,  ...,  49.,  51.,  51.]]])"
      ]
     },
     "execution_count": 9,
     "metadata": {},
     "output_type": "execute_result"
    }
   ],
   "source": [
    "# first transform under (0, 1//-1, 0)\n",
    "\n",
    "data_1.data[0][[0, 2]] = data_1.data[0][[2, 0]]\n",
    "\n",
    "data_1.data[0][[1]] = -data_1.data[0][[1]]\n",
    "\n",
    "data_1.data"
   ]
  },
  {
   "cell_type": "code",
   "execution_count": 10,
   "id": "18544a27",
   "metadata": {},
   "outputs": [
    {
     "data": {
      "text/plain": [
       "tensor([[[  1.,   1.,   1.,  ...,  49.,  51.,  51.],\n",
       "         [  1.,   2.,   1.,  ...,  50.,  16.,  86.],\n",
       "         [  2.,   5.,   3.,  ..., 102.,  36., 176.]]])"
      ]
     },
     "execution_count": 10,
     "metadata": {},
     "output_type": "execute_result"
    }
   ],
   "source": [
    "# second transform under (1, 1//0, 1)\n",
    "\n",
    "data_2.data[0][[2]] = data_2.data[0][[2]] + 2 * data_2.data[0][[1]] + data_2.data[0][[0]]\n",
    "\n",
    "data_2.data[0][[1]] = data_2.data[0][[1]] + data_2.data[0][[0]]\n",
    "\n",
    "data_2.data"
   ]
  },
  {
   "cell_type": "code",
   "execution_count": 11,
   "id": "1bb209a8",
   "metadata": {},
   "outputs": [
    {
     "data": {
      "text/plain": [
       "(tensor([[-1.0000e+00, -1.0000e+00, -2.0000e+00,  ..., -2.4980e+03,\n",
       "          -1.5800e+03, -1.5800e+03]]),\n",
       " tensor([[-1.0000e+00, -1.0000e+00, -2.0000e+00,  ..., -2.4980e+03,\n",
       "          -1.5800e+03, -1.5800e+03]]),\n",
       " tensor([[-1.0000e+00, -1.0000e+00, -2.0000e+00,  ..., -2.4980e+03,\n",
       "          -1.5800e+03, -1.5800e+03]]))"
      ]
     },
     "execution_count": 11,
     "metadata": {},
     "output_type": "execute_result"
    }
   ],
   "source": [
    "exprs = b**2 - 1 * a * c\n",
    "\n",
    "exprs.evaluate(data), exprs.evaluate(data_1), exprs.evaluate(data_2)"
   ]
  },
  {
   "cell_type": "code",
   "execution_count": 12,
   "id": "7d81c407",
   "metadata": {},
   "outputs": [],
   "source": [
    "cache = {}\n",
    "\n",
    "def _metric(x, y, w):\n",
    "    \n",
    "    key = y[0]\n",
    "\n",
    "    if key in cache:\n",
    "        return cache[key]\n",
    "    \n",
    "    token_len = key.count('(') + key.count(')')\n",
    "    \n",
    "    expr = eval(key)\n",
    "        \n",
    "    if token_len > 100:\n",
    "        return -1.\n",
    "    \n",
    "    factor_s = exprs.evaluate(data)\n",
    "            \n",
    "    factor = expr.evaluate(data)\n",
    "    \n",
    "    factor_1 = expr.evaluate(data_1)\n",
    "    \n",
    "    factor_2 = expr.evaluate(data_2)\n",
    "                \n",
    "    ic = 0.5 * torch.sum((factor == factor_1) & (factor != 0)) / data.n_polys \\\n",
    "    + 0.5 * torch.sum((factor == factor_2) & (factor != 0)) / data.n_polys\n",
    "        \n",
    "    \n",
    "    if torch.sum((factor == factor_s) & (factor != 0)) > data.n_polys/2:\n",
    "        \n",
    "        print(expr)\n",
    "        \n",
    "        \n",
    "    \n",
    "    cache[key] = ic.item()\n",
    "    \n",
    "    return ic\n",
    "\n",
    "\n",
    "Metric = make_fitness(function=_metric, greater_is_better=True)"
   ]
  },
  {
   "cell_type": "code",
   "execution_count": 13,
   "id": "c3d53ea1",
   "metadata": {},
   "outputs": [],
   "source": [
    "generation = 0\n",
    "\n",
    "def ev():\n",
    "    global generation\n",
    "    generation += 1\n",
    "    \n",
    "    dir_ = 'results'\n",
    "    os.makedirs(dir_, exist_ok=True)\n",
    "    if generation % 1 == 0:\n",
    "        with open(f'{dir_}/{generation}.json', 'w') as f:\n",
    "            json.dump({'cache': cache}, f)\n",
    "    \n",
    "    pass"
   ]
  },
  {
   "cell_type": "code",
   "execution_count": 14,
   "id": "3ff8771f",
   "metadata": {},
   "outputs": [],
   "source": [
    "features = ['a', 'b', 'c']\n",
    "terminals = features\n",
    "\n",
    "X_train = np.array([terminals])\n",
    "y_train = np.array([[1]])"
   ]
  },
  {
   "cell_type": "code",
   "execution_count": 15,
   "id": "b9edd40e",
   "metadata": {},
   "outputs": [
    {
     "name": "stdout",
     "output_type": "stream",
     "text": [
      "    |   Population Average    |             Best Individual              |\n",
      "---- ------------------------- ------------------------------------------ ----------\n",
      " Gen   Length          Fitness   Length          Fitness      OOB Fitness  Time Left\n",
      "   0    82.05        -0.190537       15         0.509406         0.509406     16.79s\n",
      "   1     9.16         0.369376        3         0.509406         0.509406     14.25s\n",
      "   2     9.17         0.345731       11         0.525668         0.525668      5.66s\n",
      "Sub(Mul($b,$b),Mul($c,$a))\n",
      "   3    10.28         0.390405        7                1                1      2.52s\n"
     ]
    },
    {
     "data": {
      "text/html": [
       "<style>#sk-container-id-1 {color: black;background-color: white;}#sk-container-id-1 pre{padding: 0;}#sk-container-id-1 div.sk-toggleable {background-color: white;}#sk-container-id-1 label.sk-toggleable__label {cursor: pointer;display: block;width: 100%;margin-bottom: 0;padding: 0.3em;box-sizing: border-box;text-align: center;}#sk-container-id-1 label.sk-toggleable__label-arrow:before {content: \"▸\";float: left;margin-right: 0.25em;color: #696969;}#sk-container-id-1 label.sk-toggleable__label-arrow:hover:before {color: black;}#sk-container-id-1 div.sk-estimator:hover label.sk-toggleable__label-arrow:before {color: black;}#sk-container-id-1 div.sk-toggleable__content {max-height: 0;max-width: 0;overflow: hidden;text-align: left;background-color: #f0f8ff;}#sk-container-id-1 div.sk-toggleable__content pre {margin: 0.2em;color: black;border-radius: 0.25em;background-color: #f0f8ff;}#sk-container-id-1 input.sk-toggleable__control:checked~div.sk-toggleable__content {max-height: 200px;max-width: 100%;overflow: auto;}#sk-container-id-1 input.sk-toggleable__control:checked~label.sk-toggleable__label-arrow:before {content: \"▾\";}#sk-container-id-1 div.sk-estimator input.sk-toggleable__control:checked~label.sk-toggleable__label {background-color: #d4ebff;}#sk-container-id-1 div.sk-label input.sk-toggleable__control:checked~label.sk-toggleable__label {background-color: #d4ebff;}#sk-container-id-1 input.sk-hidden--visually {border: 0;clip: rect(1px 1px 1px 1px);clip: rect(1px, 1px, 1px, 1px);height: 1px;margin: -1px;overflow: hidden;padding: 0;position: absolute;width: 1px;}#sk-container-id-1 div.sk-estimator {font-family: monospace;background-color: #f0f8ff;border: 1px dotted black;border-radius: 0.25em;box-sizing: border-box;margin-bottom: 0.5em;}#sk-container-id-1 div.sk-estimator:hover {background-color: #d4ebff;}#sk-container-id-1 div.sk-parallel-item::after {content: \"\";width: 100%;border-bottom: 1px solid gray;flex-grow: 1;}#sk-container-id-1 div.sk-label:hover label.sk-toggleable__label {background-color: #d4ebff;}#sk-container-id-1 div.sk-serial::before {content: \"\";position: absolute;border-left: 1px solid gray;box-sizing: border-box;top: 0;bottom: 0;left: 50%;z-index: 0;}#sk-container-id-1 div.sk-serial {display: flex;flex-direction: column;align-items: center;background-color: white;padding-right: 0.2em;padding-left: 0.2em;position: relative;}#sk-container-id-1 div.sk-item {position: relative;z-index: 1;}#sk-container-id-1 div.sk-parallel {display: flex;align-items: stretch;justify-content: center;background-color: white;position: relative;}#sk-container-id-1 div.sk-item::before, #sk-container-id-1 div.sk-parallel-item::before {content: \"\";position: absolute;border-left: 1px solid gray;box-sizing: border-box;top: 0;bottom: 0;left: 50%;z-index: -1;}#sk-container-id-1 div.sk-parallel-item {display: flex;flex-direction: column;z-index: 1;position: relative;background-color: white;}#sk-container-id-1 div.sk-parallel-item:first-child::after {align-self: flex-end;width: 50%;}#sk-container-id-1 div.sk-parallel-item:last-child::after {align-self: flex-start;width: 50%;}#sk-container-id-1 div.sk-parallel-item:only-child::after {width: 0;}#sk-container-id-1 div.sk-dashed-wrapped {border: 1px dashed gray;margin: 0 0.4em 0.5em 0.4em;box-sizing: border-box;padding-bottom: 0.4em;background-color: white;}#sk-container-id-1 div.sk-label label {font-family: monospace;font-weight: bold;display: inline-block;line-height: 1.2em;}#sk-container-id-1 div.sk-label-container {text-align: center;}#sk-container-id-1 div.sk-container {/* jupyter's `normalize.less` sets `[hidden] { display: none; }` but bootstrap.min.css set `[hidden] { display: none !important; }` so we also need the `!important` here to be able to override the default hidden behavior on the sphinx rendered scikit-learn.org. See: https://github.com/scikit-learn/scikit-learn/issues/21755 */display: inline-block !important;position: relative;}#sk-container-id-1 div.sk-text-repr-fallback {display: none;}</style><div id=\"sk-container-id-1\" class=\"sk-top-container\"><div class=\"sk-text-repr-fallback\"><pre>Sub(Mul(X1, X1), Mul(X2, X0))</pre><b>In a Jupyter environment, please rerun this cell to show the HTML representation or trust the notebook. <br />On GitHub, the HTML representation is unable to render, please try loading this page with nbviewer.org.</b></div><div class=\"sk-container\" hidden><div class=\"sk-item\"><div class=\"sk-estimator sk-toggleable\"><input class=\"sk-toggleable__control sk-hidden--visually\" id=\"sk-estimator-id-1\" type=\"checkbox\" checked><label for=\"sk-estimator-id-1\" class=\"sk-toggleable__label sk-toggleable__label-arrow\">SymbolicRegressor</label><div class=\"sk-toggleable__content\"><pre>Sub(Mul(X1, X1), Mul(X2, X0))</pre></div></div></div></div></div>"
      ],
      "text/plain": [
       "SymbolicRegressor(const_range=None,\n",
       "                  function_set=[<gplearn.functions._Function object at 0x000001F9B5651D90>,\n",
       "                                <gplearn.functions._Function object at 0x000001F9B5651460>,\n",
       "                                <gplearn.functions._Function object at 0x000001F9BC6F5100>],\n",
       "                  generations=5, init_depth=(2, 8), max_samples=0.9,\n",
       "                  metric=<gplearn.fitness._Fitness object at 0x000001F9BC6F8DF0>,\n",
       "                  p_crossover=0.3, p_point_mutation=0.1, p_point_replace=0.6,\n",
       "                  p_subtree_mutation=0.1, parsimony_coefficient=0.0,\n",
       "                  random_state=4, stopping_criteria=1.0, tournament_size=600,\n",
       "                  verbose=1)"
      ]
     },
     "execution_count": 15,
     "metadata": {},
     "output_type": "execute_result"
    }
   ],
   "source": [
    "cache = {}\n",
    "\n",
    "est_gp = SymbolicRegressor(population_size=1000,\n",
    "                           generations=5,\n",
    "                           init_depth=(2, 8),\n",
    "                           tournament_size=600,\n",
    "                           stopping_criteria=1.,\n",
    "                           p_crossover=0.3,\n",
    "                           p_subtree_mutation=0.1,\n",
    "                           p_hoist_mutation=0.01,\n",
    "                           p_point_mutation=0.1,\n",
    "                           p_point_replace=0.6,\n",
    "                           max_samples=0.9,\n",
    "                           verbose=1,\n",
    "                           parsimony_coefficient=0.,\n",
    "                           random_state=seed,\n",
    "                           function_set=funcs,\n",
    "                           metric=Metric,\n",
    "                           const_range=None,\n",
    "                           n_jobs=1)\n",
    "\n",
    "est_gp.fit(X_train, y_train, callback=ev)"
   ]
  },
  {
   "cell_type": "code",
   "execution_count": 17,
   "id": "e79dc5d1",
   "metadata": {},
   "outputs": [
    {
     "data": {
      "text/plain": [
       "Sub(Mul($b,$b),Mul($c,$a))"
      ]
     },
     "execution_count": 17,
     "metadata": {},
     "output_type": "execute_result"
    }
   ],
   "source": [
    "eval('Sub(Mul(b,b),Mul(c,a))')"
   ]
  },
  {
   "cell_type": "code",
   "execution_count": 18,
   "id": "1d835ec2",
   "metadata": {},
   "outputs": [
    {
     "name": "stdout",
     "output_type": "stream",
     "text": [
      "2.0.1+cpu\n"
     ]
    }
   ],
   "source": []
  },
  {
   "cell_type": "code",
   "execution_count": null,
   "id": "f1ce6073",
   "metadata": {},
   "outputs": [],
   "source": []
  }
 ],
 "metadata": {
  "kernelspec": {
   "display_name": "Python 3 (ipykernel)",
   "language": "python",
   "name": "python3"
  },
  "language_info": {
   "codemirror_mode": {
    "name": "ipython",
    "version": 3
   },
   "file_extension": ".py",
   "mimetype": "text/x-python",
   "name": "python",
   "nbconvert_exporter": "python",
   "pygments_lexer": "ipython3",
   "version": "3.9.15"
  }
 },
 "nbformat": 4,
 "nbformat_minor": 5
}
