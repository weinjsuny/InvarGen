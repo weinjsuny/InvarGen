{
 "cells": [
  {
   "cell_type": "code",
   "execution_count": 20,
   "id": "10693aff",
   "metadata": {},
   "outputs": [],
   "source": [
    "import json\n",
    "import os\n",
    "from collections import Counter\n",
    "\n",
    "import numpy as np"
   ]
  },
  {
   "cell_type": "code",
   "execution_count": 21,
   "id": "3bacffae",
   "metadata": {},
   "outputs": [],
   "source": [
    "from invargen.data.expression import *\n",
    "from invargen.data.tokens import *\n",
    "from invargen.data.tree import *"
   ]
  },
  {
   "cell_type": "code",
   "execution_count": 22,
   "id": "e9f138fa",
   "metadata": {},
   "outputs": [],
   "source": [
    "from invargen.data.expression import *\n",
    "from invargen_generic.features import *"
   ]
  },
  {
   "cell_type": "code",
   "execution_count": 23,
   "id": "ed8c8869",
   "metadata": {},
   "outputs": [],
   "source": [
    "from gplearn.fitness import make_fitness\n",
    "from gplearn.functions import make_function\n",
    "from gplearn.genetic import SymbolicRegressor"
   ]
  },
  {
   "cell_type": "code",
   "execution_count": null,
   "id": "2e268310",
   "metadata": {},
   "outputs": [],
   "source": []
  },
  {
   "cell_type": "code",
   "execution_count": 24,
   "id": "3254fde5",
   "metadata": {},
   "outputs": [],
   "source": [
    "from collections import namedtuple\n",
    "GenericOperator = namedtuple('GenericOperator', ['name', 'function', 'arity'])"
   ]
  },
  {
   "cell_type": "code",
   "execution_count": 25,
   "id": "b454c1e5",
   "metadata": {},
   "outputs": [
    {
     "data": {
      "text/plain": [
       "([GenericOperator(name='Add', function=<function binary.<locals>._calc at 0x0000023789B290D0>, arity=2),\n",
       "  GenericOperator(name='Sub', function=<function binary.<locals>._calc at 0x0000023789B29160>, arity=2),\n",
       "  GenericOperator(name='Mul', function=<function binary.<locals>._calc at 0x0000023789B291F0>, arity=2)],\n",
       " [<gplearn.functions._Function at 0x23789bbfb50>,\n",
       "  <gplearn.functions._Function at 0x23789bbfac0>,\n",
       "  <gplearn.functions._Function at 0x23789bbf730>,\n",
       "  <gplearn.functions._Function at 0x237fdb5ed60>])"
      ]
     },
     "execution_count": 25,
     "metadata": {},
     "output_type": "execute_result"
    }
   ],
   "source": [
    "generic_funcs = []\n",
    "\n",
    "from invargen_generic.operators import funcs as generic_funcs\n",
    "\n",
    "funcs = [make_function(**func._asdict()) for func in generic_funcs]    \n",
    "\n",
    "def const(cls):\n",
    "    \n",
    "    def _calc(a):\n",
    "        \n",
    "        n = len(a)\n",
    "    \n",
    "        return np.array([f'Mul(Constant({str(cls)}),{a[i]})' for i in range(n)])\n",
    "\n",
    "    return _calc\n",
    "        \n",
    "const_ops = [i for i in range(4, 5)]\n",
    "    \n",
    "#funcs = {}\n",
    "# Annotate unprotected ops\n",
    "for op in const_ops:\n",
    "    \n",
    "    funcs += [make_function(**GenericOperator(function=const(str(op)), name=str(op), arity=1)._asdict())]\n",
    "    \n",
    "        \n",
    "generic_funcs, funcs"
   ]
  },
  {
   "cell_type": "code",
   "execution_count": 26,
   "id": "390b2dfa",
   "metadata": {},
   "outputs": [],
   "source": [
    "seed = 4"
   ]
  },
  {
   "cell_type": "code",
   "execution_count": 27,
   "id": "1110c7cb",
   "metadata": {},
   "outputs": [],
   "source": [
    "import torch\n",
    "from torch import Tensor\n",
    "\n",
    "device = torch.device('cpu')"
   ]
  },
  {
   "cell_type": "code",
   "execution_count": 28,
   "id": "276dfdc2",
   "metadata": {},
   "outputs": [],
   "source": [
    "from invargen_qlib.poly_data import PolyData\n",
    "\n",
    "data = PolyData(device=device)\n",
    "\n",
    "data_1 = PolyData(device=device)\n",
    "\n",
    "data_2 = PolyData(device=device)\n",
    "\n",
    "data_3 = PolyData(device=device)\n",
    "\n",
    "data_4 = PolyData(device=device)"
   ]
  },
  {
   "cell_type": "code",
   "execution_count": 29,
   "id": "115282b3",
   "metadata": {},
   "outputs": [
    {
     "data": {
      "text/plain": [
       "tensor([[[  1.,   1.,   1.,  ...,  49.,  51.,  51.],\n",
       "         [  0.,   1.,   0.,  ...,   1., -35.,  35.],\n",
       "         [  1.,   2.,   2.,  ...,  51.,  55.,  55.]]])"
      ]
     },
     "execution_count": 29,
     "metadata": {},
     "output_type": "execute_result"
    }
   ],
   "source": [
    "data.data"
   ]
  },
  {
   "cell_type": "code",
   "execution_count": null,
   "id": "7e6a22fa",
   "metadata": {},
   "outputs": [],
   "source": []
  },
  {
   "cell_type": "code",
   "execution_count": 30,
   "id": "04f03a55",
   "metadata": {},
   "outputs": [
    {
     "data": {
      "text/plain": [
       "tensor([[[  1.,   2.,   2.,  ...,  51.,  55.,  55.],\n",
       "         [ -0.,  -1.,  -0.,  ...,  -1.,  35., -35.],\n",
       "         [  1.,   1.,   1.,  ...,  49.,  51.,  51.]]])"
      ]
     },
     "execution_count": 30,
     "metadata": {},
     "output_type": "execute_result"
    }
   ],
   "source": [
    "# first transform under (0, 1//-1, 0)\n",
    "\n",
    "data_1.data[0][[0, 2]] = data_1.data[0][[2, 0]]\n",
    "\n",
    "data_1.data[0][[1]] = -data_1.data[0][[1]]\n",
    "\n",
    "data_1.data"
   ]
  },
  {
   "cell_type": "code",
   "execution_count": 31,
   "id": "18544a27",
   "metadata": {},
   "outputs": [
    {
     "data": {
      "text/plain": [
       "tensor([[[  1.,   1.,   1.,  ...,  49.,  51.,  51.],\n",
       "         [  2.,   3.,   2.,  ...,  99.,  67., 137.],\n",
       "         [  2.,   4.,   3.,  ..., 101.,  71., 141.]]])"
      ]
     },
     "execution_count": 31,
     "metadata": {},
     "output_type": "execute_result"
    }
   ],
   "source": [
    "# second transform under (1, 1//0, 1)\n",
    "\n",
    "data_2.data[0][[2]] = data_2.data[0][[2]] + 1 * data_2.data[0][[1]] + data_2.data[0][[0]]\n",
    "\n",
    "data_2.data[0][[1]] = data_2.data[0][[1]] + data_2.data[0][[0]] * 2\n",
    "\n",
    "data_2.data"
   ]
  },
  {
   "cell_type": "code",
   "execution_count": 32,
   "id": "d9892b3b",
   "metadata": {},
   "outputs": [
    {
     "data": {
      "text/plain": [
       "tensor([[[   4.,    4.,    4.,  ...,  196.,  204.,  204.],\n",
       "         [   0.,    4.,    0.,  ...,    4., -140.,  140.],\n",
       "         [   4.,    8.,    8.,  ...,  204.,  220.,  220.]]])"
      ]
     },
     "execution_count": 32,
     "metadata": {},
     "output_type": "execute_result"
    }
   ],
   "source": [
    "# second transform under (1, 1//0, 1)\n",
    "\n",
    "data_3.data = data.data * 2\n",
    "\n",
    "data_3.data\n",
    "\n",
    "# second transform under (1, 1//0, 1)\n",
    "\n",
    "data_4.data = data.data * 4\n",
    "\n",
    "data_4.data"
   ]
  },
  {
   "cell_type": "code",
   "execution_count": 33,
   "id": "1bb209a8",
   "metadata": {},
   "outputs": [
    {
     "data": {
      "text/plain": [
       "(tensor([[-4.0000e+00, -7.0000e+00, -8.0000e+00,  ..., -9.9950e+03,\n",
       "          -9.9950e+03, -9.9950e+03]]),\n",
       " tensor([[-4.0000e+00, -7.0000e+00, -8.0000e+00,  ..., -9.9950e+03,\n",
       "          -9.9950e+03, -9.9950e+03]]),\n",
       " tensor([[-4.0000e+00, -7.0000e+00, -8.0000e+00,  ..., -9.9950e+03,\n",
       "          -9.9950e+03, -9.9950e+03]]))"
      ]
     },
     "execution_count": 33,
     "metadata": {},
     "output_type": "execute_result"
    }
   ],
   "source": [
    "exprs = b**2 - 4 * a * c\n",
    "\n",
    "exprs.evaluate(data), exprs.evaluate(data_1), exprs.evaluate(data_2)"
   ]
  },
  {
   "cell_type": "code",
   "execution_count": 34,
   "id": "7d81c407",
   "metadata": {},
   "outputs": [],
   "source": [
    "cache = {}\n",
    "\n",
    "def _metric(x, y, w):\n",
    "    \n",
    "    global data, data_1, data_2, data_3, data_4\n",
    "    \n",
    "    key = y[0]\n",
    "\n",
    "    if key in cache:\n",
    "        return cache[key]\n",
    "    \n",
    "    token_len = key.count('(') + key.count(')')\n",
    "    \n",
    "    expr = eval(key)\n",
    "        \n",
    "    if token_len > 100:\n",
    "        return -1.\n",
    "                \n",
    "    factor = expr.evaluate(data)\n",
    "    \n",
    "    factor_1 = expr.evaluate(data_1)\n",
    "    \n",
    "    factor_2 = expr.evaluate(data_2)\n",
    "    \n",
    "    factor_3 = expr.evaluate(data_3)\n",
    "\n",
    "    factor_4 = expr.evaluate(data_4)\n",
    "\n",
    "    ic = torch.sum(factor_4 * factor == torch.pow(factor_3, 2)) / data.n_polys\n",
    "    \n",
    "    if ic.item() < 1: return 0\n",
    "                        \n",
    "    ic = ic * (0.5 * torch.sum((factor == factor_1) & (factor != 0)) / data.n_polys \\\n",
    "    + 0.5 * torch.sum((factor == factor_2) & (factor != 0)) / data.n_polys)\n",
    "    \n",
    "    #print(ic.item())\n",
    "    \n",
    "    #print(expr)\n",
    "    \n",
    "    #print(\"&&&&&&&&&&&&&\")\n",
    "        \n",
    "    \n",
    "    if ic.item() == 1:\n",
    "        \n",
    "        print(expr)\n",
    "        \n",
    "    \n",
    "    cache[key] = ic.item()\n",
    "    \n",
    "    return ic\n",
    "\n",
    "\n",
    "Metric = make_fitness(function=_metric, greater_is_better=True)"
   ]
  },
  {
   "cell_type": "code",
   "execution_count": null,
   "id": "857db6f7",
   "metadata": {},
   "outputs": [],
   "source": []
  },
  {
   "cell_type": "code",
   "execution_count": null,
   "id": "67ed86a1",
   "metadata": {},
   "outputs": [],
   "source": []
  },
  {
   "cell_type": "code",
   "execution_count": 35,
   "id": "26d97518",
   "metadata": {},
   "outputs": [],
   "source": [
    "from invargen.utils.correlation import batch_pearsonr, batch_spearmanr\n",
    "from typing import Tuple, Optional\n",
    "\n",
    "capacity = 20\n",
    "\n",
    "exprs = [None for _ in range(capacity + 1)]\n",
    "values = [None for _ in range(capacity + 1)]\n",
    "single_ics = np.zeros(capacity+1)\n",
    "mutual_ics = np.identity(capacity+1)\n",
    "weights = np.zeros(capacity + 1)\n",
    "\n",
    "size = 0\n",
    "\n",
    "\n",
    "cache = {}\n",
    "\n",
    "\n",
    "\n",
    "def _calc_ics(factor, ic_mut_threshold):\n",
    "    \n",
    "    global size, values\n",
    "        \n",
    "    mutual_ics = []\n",
    "    \n",
    "    for i in range(size):\n",
    "        \n",
    "        mutual_ic = batch_pearsonr(factor, values[i]).mean().item()\n",
    "        \n",
    "        if mutual_ic > ic_mut_threshold:\n",
    "            \n",
    "            return None\n",
    "        \n",
    "        mutual_ics.append(mutual_ic)\n",
    "        \n",
    "    return mutual_ics\n",
    "\n",
    "\n",
    "def _add_factor(expr, factor, ic_ret, ic_mut):\n",
    "    \n",
    "    global size, exprs, values, single_ics, mutual_ics, weights\n",
    "    \n",
    "    n = size\n",
    "    \n",
    "    exprs[n] = expr\n",
    "    \n",
    "    values[n] = factor\n",
    "    \n",
    "    single_ics[n] = ic_ret\n",
    "    \n",
    "    for i in range(n):\n",
    "        \n",
    "        mutual_ics[i][n] = ic_mut[i]\n",
    "        \n",
    "    size += 1\n",
    "    \n",
    "    weights[n] = ic_ret\n",
    "    \n",
    "\n",
    "def _optimize():\n",
    "    \n",
    "    global size, weights\n",
    "    \n",
    "    return weights[:size]\n",
    "\n",
    "\n",
    "def _pop():\n",
    "    \n",
    "    global size, capacity, weights\n",
    "    \n",
    "    if size <= capacity: return\n",
    "    \n",
    "    idx = np.argmin(np.abs(weights))\n",
    "    \n",
    "    _swap_idx(idx, capacity)\n",
    "    \n",
    "    size = capacity\n",
    "    \n",
    "\n",
    "def _swap_idx(i, j):\n",
    "    \n",
    "    global size, exprs, values, single_ics, mutual_ics, weights\n",
    "    \n",
    "    exprs[i], exprs[j] = exprs[j], exprs[i]\n",
    "    \n",
    "    values[i], values[j] = values[j], values[i]\n",
    "    \n",
    "    single_ics[i], single_ics[j] = single_ics[j], single_ics[i]\n",
    "    \n",
    "    mutual_ics[:, [i, j]] = mutual_ics[:, [j, i]] \n",
    "    \n",
    "    mutual_ics[[i, j], :] = mutual_ics[[j, i], :] \n",
    "    \n",
    "    weights[i], weights[j] = weights[j], weights[i]\n",
    "    \n",
    "    \n",
    "    \n",
    "    \n",
    "        \n",
    "\n",
    "def _metric2(x, y, w):\n",
    "    \n",
    "    global data, data_1, data_2, data_3, data_4, exprs, weights\n",
    "    \n",
    "    key = y[0]\n",
    "\n",
    "    if key in cache:\n",
    "        return cache[key]\n",
    "    \n",
    "    token_len = key.count('(') + key.count(')')\n",
    "    \n",
    "    expr = eval(key)\n",
    "        \n",
    "    if token_len > 100:\n",
    "        \n",
    "        return 0.\n",
    "    \n",
    "            \n",
    "    factor = expr.evaluate(data)\n",
    "    \n",
    "    factor_1 = expr.evaluate(data_1)\n",
    "    \n",
    "    factor_2 = expr.evaluate(data_2)\n",
    "    \n",
    "    factor_3 = expr.evaluate(data_3)\n",
    "\n",
    "    factor_4 = expr.evaluate(data_4)\n",
    "\n",
    "    ic = torch.sum(factor_4 * factor == torch.pow(factor_3, 2)) / data.n_polys\n",
    "    \n",
    "    if ic.item() < 1: return 0\n",
    "    \n",
    "    \n",
    "    ic_ret = ic.item() * (0.5 * torch.sum((factor == factor_1) & (factor != 0)) / data.n_polys \\\n",
    "    + 0.5 * torch.sum((factor == factor_2) & (factor != 0)) / data.n_polys).item()\n",
    "    \n",
    "    ic_ret = ic_ret * min(batch_pearsonr(factor, factor_1).mean().item(), batch_pearsonr(factor, factor_2).mean().item())\n",
    "    \n",
    "    ic_mut = _calc_ics(factor, ic_mut_threshold=0.99) # if factor is highly correlated to any of the factors in memory return 0\n",
    "    \n",
    "    if ic_ret is None or ic_mut is None:\n",
    "        \n",
    "        #print(expr, ic_ret)\n",
    "        \n",
    "        return 0\n",
    "    \n",
    "    \n",
    "    _add_factor(expr, factor, ic_ret, ic_mut)\n",
    "    \n",
    "    if size > 1:\n",
    "        \n",
    "        new_weights = _optimize()\n",
    "        \n",
    "        worst_idx = np.argmin(np.abs(new_weights))\n",
    "        \n",
    "        if worst_idx != capacity:\n",
    "            \n",
    "            weights[:size] = new_weights\n",
    "            \n",
    "            print(f\"[Pool +] {expr}\")\n",
    "            \n",
    "            if size > capacity:\n",
    "                \n",
    "                print(f\"[Pool -] {exprs[worst_idx]}\")\n",
    "                \n",
    "                \n",
    "        _pop()\n",
    "        \n",
    "    #print(ic)\n",
    "    \n",
    "    #print(expr)\n",
    "    \n",
    "    #print(\"&&&&&&&&&&&&&\")\n",
    "            \n",
    "    \n",
    "    #if ic.item() == 1:\n",
    "        \n",
    "        #print(expr)\n",
    "        \n",
    "    \n",
    "    cache[key] = ic_ret\n",
    "    \n",
    "    return ic_ret\n",
    "\n",
    "\n",
    "Metric = make_fitness(function=_metric2, greater_is_better=True)"
   ]
  },
  {
   "cell_type": "code",
   "execution_count": null,
   "id": "a7d741cc",
   "metadata": {},
   "outputs": [],
   "source": []
  },
  {
   "cell_type": "code",
   "execution_count": null,
   "id": "8dc8f3a1",
   "metadata": {},
   "outputs": [],
   "source": []
  },
  {
   "cell_type": "code",
   "execution_count": 36,
   "id": "c3d53ea1",
   "metadata": {},
   "outputs": [],
   "source": [
    "generation = 0\n",
    "\n",
    "def ev():\n",
    "    global generation\n",
    "    generation += 1\n",
    "    \n",
    "    dir_ = 'results'\n",
    "    os.makedirs(dir_, exist_ok=True)\n",
    "    if generation % 1 == 0:\n",
    "        with open(f'{dir_}/{generation}.json', 'w') as f:\n",
    "            json.dump({'cache': cache}, f)\n",
    "    \n",
    "    pass"
   ]
  },
  {
   "cell_type": "code",
   "execution_count": 37,
   "id": "3ff8771f",
   "metadata": {},
   "outputs": [],
   "source": [
    "features = ['a', 'b', 'c']\n",
    "terminals = features\n",
    "\n",
    "X_train = np.array([terminals])\n",
    "y_train = np.array([[1]])"
   ]
  },
  {
   "cell_type": "code",
   "execution_count": 38,
   "id": "b9edd40e",
   "metadata": {},
   "outputs": [
    {
     "name": "stdout",
     "output_type": "stream",
     "text": [
      "    |   Population Average    |             Best Individual              |\n",
      "---- ------------------------- ------------------------------------------ ----------\n",
      " Gen   Length          Fitness   Length          Fitness      OOB Fitness  Time Left\n",
      "[Pool +] Mul(Constant(4),Add(Mul(Constant(4),$b),Sub($b,$a)))\n",
      "[Pool +] Mul(Constant(4),$c)\n",
      "[Pool +] Add(Add(Sub($c,$c),Mul($b,$a)),Mul(Sub($c,$a),Add($a,$a)))\n",
      "[Pool +] Mul(Mul(Mul($b,$c),$c),$b)\n",
      "[Pool +] Mul(Mul($a,$a),Sub($c,$c))\n",
      "[Pool +] Sub(Mul($b,$b),Sub($c,$c))\n",
      "[Pool +] Mul(Constant(4),$a)\n",
      "[Pool +] Mul(Sub(Sub(Mul(Constant(4),$a),Mul(Constant(4),$a)),$b),$a)\n",
      "[Pool +] Mul(Constant(4),Add(Add(Sub(Sub($b,$c),Sub($a,$a)),Sub(Sub($c,$c),Sub($b,$b))),$c))\n",
      "[Pool +] Add(Add($b,$a),Add($a,$a))\n",
      "[Pool +] Mul(Add(Sub(Sub($b,$a),Add($c,$b)),Mul(Constant(4),Add($b,$b))),Add(Mul(Mul($b,$c),Add($a,$b)),Mul(Sub($a,$a),Mul(Constant(4),$a))))\n",
      "[Pool +] Mul(Constant(4),Mul(Add(Sub($b,$c),$b),Mul(Add(Sub(Add($c,$a),Mul(Constant(4),$c)),Mul(Constant(4),Add($a,$c))),Sub($b,Mul(Constant(4),Mul(Constant(4),$b))))))\n",
      "[Pool +] Mul(Add($c,$b),Mul($a,$c))\n",
      "[Pool +] Mul($c,$c)\n",
      "[Pool +] Sub(Mul(Constant(4),$b),Sub($c,$b))\n",
      "[Pool +] Mul(Add(Mul(Constant(4),Mul($b,$a)),Mul($a,Mul(Constant(4),Mul($b,Mul(Mul(Constant(4),Sub($b,$b)),Add(Sub($b,$c),$a)))))),$b)\n",
      "[Pool +] Mul(Constant(4),Sub($a,$a))\n",
      "[Pool +] Add(Mul(Constant(4),Mul(Constant(4),$b)),$c)\n",
      "[Pool +] Mul(Constant(4),Mul($b,$c))\n",
      "[Pool +] Mul(Sub($b,$a),Sub($b,$c))\n",
      "[Pool -] Add(Add(Sub($c,$c),Mul($b,$a)),Mul(Sub($c,$a),Add($a,$a)))\n",
      "[Pool +] Mul(Sub(Sub($a,Mul(Constant(4),Mul($c,$b))),$a),Mul(Constant(4),Mul($c,Mul(Constant(4),Add($a,$c)))))\n",
      "[Pool -] Mul(Mul($a,$a),Sub($c,$c))\n",
      "[Pool +] Mul(Mul($b,Mul(Constant(4),Mul(Mul(Constant(4),$b),Mul(Mul(Constant(4),$b),Sub($a,$c))))),Mul(Constant(4),Mul(Sub(Mul(Constant(4),$b),$c),Add($a,$a))))\n",
      "[Pool -] Mul(Sub(Sub($a,Mul(Constant(4),Mul($c,$b))),$a),Mul(Constant(4),Mul($c,Mul(Constant(4),Add($a,$c)))))\n",
      "[Pool +] Mul($a,$c)\n",
      "[Pool -] Mul(Mul($b,Mul(Constant(4),Mul(Mul(Constant(4),$b),Mul(Mul(Constant(4),$b),Sub($a,$c))))),Mul(Constant(4),Mul(Sub(Mul(Constant(4),$b),$c),Add($a,$a))))\n",
      "[Pool +] Mul(Mul($c,Mul($a,$c)),Mul(Constant(4),$a))\n",
      "[Pool -] Mul(Sub(Sub(Mul(Constant(4),$a),Mul(Constant(4),$a)),$b),$a)\n",
      "[Pool +] Mul(Add(Sub($b,$c),Add($a,$c)),Mul(Add($c,$b),Sub($b,$c)))\n",
      "[Pool -] Mul(Constant(4),Add(Add(Sub(Sub($b,$c),Sub($a,$a)),Sub(Sub($c,$c),Sub($b,$b))),$c))\n",
      "[Pool +] Mul(Constant(4),Mul(Constant(4),Mul(Constant(4),Sub(Add($b,$c),Add($c,$b)))))\n",
      "[Pool -] Mul(Constant(4),Mul(Add(Sub($b,$c),$b),Mul(Add(Sub(Add($c,$a),Mul(Constant(4),$c)),Mul(Constant(4),Add($a,$c))),Sub($b,Mul(Constant(4),Mul(Constant(4),$b))))))\n",
      "[Pool +] Add($a,Add($b,$a))\n",
      "[Pool -] Mul(Constant(4),Mul(Constant(4),Mul(Constant(4),Sub(Add($b,$c),Add($c,$b)))))\n",
      "[Pool +] Mul(Mul(Mul(Constant(4),$b),Add($a,$a)),Sub(Sub($b,$c),Sub($b,$c)))\n",
      "[Pool -] Mul(Constant(4),Sub($a,$a))\n",
      "[Pool +] Mul(Mul(Constant(4),Mul(Constant(4),$c)),Sub(Mul(Constant(4),Mul($b,Mul(Constant(4),$c))),Mul(Constant(4),Mul(Constant(4),Mul($a,$c)))))\n",
      "[Pool -] Mul(Mul(Mul(Constant(4),$b),Add($a,$a)),Sub(Sub($b,$c),Sub($b,$c)))\n",
      "[Pool +] Mul(Constant(4),Mul(Constant(4),$b))\n",
      "[Pool -] Mul(Constant(4),Mul($b,$c))\n",
      "[Pool +] Mul(Constant(4),Mul(Mul(Constant(4),$b),Mul(Add($c,$c),$a)))\n",
      "[Pool -] Mul(Constant(4),Mul(Constant(4),$b))\n",
      "[Pool +] Mul(Constant(4),Sub(Mul(Constant(4),$b),Sub($b,$c)))\n",
      "[Pool -] Mul(Constant(4),Mul(Mul(Constant(4),$b),Mul(Add($c,$c),$a)))\n",
      "[Pool +] Mul(Constant(4),Sub($b,$a))\n",
      "[Pool -] Mul(Mul(Constant(4),Mul(Constant(4),$c)),Sub(Mul(Constant(4),Mul($b,Mul(Constant(4),$c))),Mul(Constant(4),Mul(Constant(4),Mul($a,$c)))))\n",
      "[Pool +] Add(Sub($a,$b),Sub($a,$a))\n",
      "[Pool -] Mul(Add(Sub(Sub($b,$a),Add($c,$b)),Mul(Constant(4),Add($b,$b))),Add(Mul(Mul($b,$c),Add($a,$b)),Mul(Sub($a,$a),Mul(Constant(4),$a))))\n",
      "[Pool +] Mul(Constant(4),Mul(Mul($c,$a),Sub($b,$c)))\n",
      "[Pool -] Add(Mul(Constant(4),Mul(Constant(4),$b)),$c)\n",
      "[Pool +] Add(Mul(Constant(4),Mul($a,$a)),Mul(Mul(Constant(4),$a),Sub($a,$a)))\n",
      "[Pool -] Mul(Constant(4),Add(Mul(Constant(4),$b),Sub($b,$a)))\n",
      "[Pool +] Add(Mul(Constant(4),$a),Sub($c,$b))\n",
      "[Pool -] Sub(Mul(Constant(4),$b),Sub($c,$b))\n",
      "[Pool +] Mul(Mul(Constant(4),Sub($b,$a)),Mul(Add($a,$a),Mul(Constant(4),$c)))\n",
      "[Pool -] Mul(Constant(4),Sub(Mul(Constant(4),$b),Sub($b,$c)))\n",
      "[Pool +] Mul(Mul(Constant(4),$a),Mul($a,$c))\n",
      "[Pool -] Add(Add($b,$a),Add($a,$a))\n",
      "[Pool +] Sub(Mul(Mul(Sub($b,$b),$a),$c),$a)\n",
      "[Pool -] Mul(Add(Sub($b,$c),Add($a,$c)),Mul(Add($c,$b),Sub($b,$c)))\n",
      "[Pool +] Mul(Mul(Sub(Add($a,$c),Sub($b,$a)),$a),$a)\n",
      "[Pool -] Mul(Add($c,$b),Mul($a,$c))\n",
      "[Pool +] Mul(Sub($c,$b),Mul(Constant(4),$a))\n",
      "[Pool -] Mul(Mul(Constant(4),Sub($b,$a)),Mul(Add($a,$a),Mul(Constant(4),$c)))\n",
      "[Pool +] Add(Mul(Constant(4),$a),Mul(Constant(4),$b))\n",
      "[Pool -] Mul(Constant(4),Mul(Mul($c,$a),Sub($b,$c)))\n",
      "[Pool +] Mul(Mul(Constant(4),Add($c,$c)),Mul($b,Mul(Constant(4),$b)))\n",
      "[Pool -] Mul($c,$c)\n",
      "[Pool +] Sub($b,Mul(Constant(4),Sub(Sub($c,Mul(Constant(4),Sub($a,$a))),Mul(Constant(4),Mul(Constant(4),$a)))))\n",
      "[Pool -] Mul(Mul(Constant(4),$a),Mul($a,$c))\n",
      "[Pool +] Sub($a,Add($a,Mul(Mul(Constant(4),Add($a,$b)),Mul(Constant(4),Sub($b,$a)))))\n",
      "[Pool -] Add(Mul(Constant(4),$a),Mul(Constant(4),$b))\n",
      "[Pool +] Mul(Add(Sub(Add($b,$c),Sub($b,$a)),Sub(Mul(Constant(4),$c),Mul(Constant(4),$c))),Mul(Sub(Mul(Constant(4),$b),Mul(Constant(4),$a)),Sub(Sub($b,$b),Add($c,$c))))\n",
      "[Pool -] Add(Sub($a,$b),Sub($a,$a))\n",
      "[Pool +] Mul(Mul($b,$b),Add($a,$c))\n",
      "[Pool -] Mul(Constant(4),Sub($b,$a))\n",
      "[Pool +] Mul(Add(Mul(Constant(4),Mul(Constant(4),$c)),$c),Add(Mul(Constant(4),$b),$a))\n",
      "[Pool -] Add($a,Add($b,$a))\n",
      "[Pool +] Sub(Mul($b,$a),Mul($a,$c))\n",
      "[Pool -] Mul(Constant(4),$c)\n",
      "   0    36.66      -0.00098033        3         0.398345         0.398345      6.03m\n",
      "[Pool +] Sub(Mul($b,$b),Mul($a,$c))\n",
      "[Pool -] Mul(Mul(Mul($b,$c),$c),$b)\n",
      "[Pool +] Mul(Mul(Mul($b,$b),Add($a,$c)),$c)\n",
      "[Pool -] Sub($a,Add($a,Mul(Mul(Constant(4),Add($a,$b)),Mul(Constant(4),Sub($b,$a)))))\n",
      "   1     3.69         0.288671        3         0.398345         0.398345      1.94m\n",
      "[Pool +] Sub($c,$b)\n",
      "[Pool -] Mul(Mul(Mul($b,$b),Add($a,$c)),$c)\n",
      "[Pool +] Mul(Mul(Constant(4),Mul($a,$a)),Mul(Mul($b,$b),Mul($b,$b)))\n",
      "[Pool -] Mul(Mul(Constant(4),Add($c,$c)),Mul($b,Mul(Constant(4),$b)))\n",
      "   2     3.23         0.302928        3         0.398345         0.398345      1.81m\n",
      "[Pool +] Sub(Sub($a,$a),Mul($b,$b))\n",
      "[Pool -] Mul(Add(Mul(Constant(4),Mul($b,$a)),Mul($a,Mul(Constant(4),Mul($b,Mul(Mul(Constant(4),Sub($b,$b)),Add(Sub($b,$c),$a)))))),$b)\n",
      "   3     3.28         0.277628        3         0.398345         0.398345      2.10m\n",
      "[Pool +] Mul($a,Add($c,Mul(Constant(4),$b)))\n",
      "[Pool -] Mul(Mul(Constant(4),Mul($a,$a)),Mul(Mul($b,$b),Mul($b,$b)))\n",
      "[Pool +] Mul(Sub($b,$c),Sub($c,$a))\n",
      "[Pool -] Mul(Add(Sub(Add($b,$c),Sub($b,$a)),Sub(Mul(Constant(4),$c),Mul(Constant(4),$c))),Mul(Sub(Mul(Constant(4),$b),Mul(Constant(4),$a)),Sub(Sub($b,$b),Add($c,$c))))\n",
      "   4     3.28         0.276506        3         0.398345         0.398345      1.55m\n",
      "[Pool +] Mul($a,Sub(Add($c,Sub($b,$b)),Mul(Constant(4),$b)))\n",
      "[Pool -] Sub(Mul($b,$a),Mul($a,$c))\n",
      "   5     3.34         0.289694        3         0.398345         0.398345      1.82m\n",
      "[Pool +] Mul($a,Sub($b,$c))\n",
      "[Pool -] Mul(Sub($c,$b),Mul(Constant(4),$a))\n",
      "[Pool +] Mul($b,Sub($c,$a))\n",
      "[Pool -] Mul($a,Sub($b,$c))\n",
      "   6     3.20         0.291902        3         0.398345         0.398345      1.80m\n",
      "[Pool +] Mul(Mul($a,Add($c,$a)),$c)\n",
      "[Pool -] Mul(Mul(Sub(Add($a,$c),Sub($b,$a)),$a),$a)\n",
      "   7     3.69         0.297078        7         0.476124         0.476124      1.09m\n",
      "[Pool +] Mul(Mul($a,Mul(Mul($a,Add($c,$a)),$c)),$c)\n",
      "[Pool -] Mul(Sub($b,$c),Sub($c,$a))\n",
      "[Pool +] Mul(Mul($a,Mul($a,$a)),$a)\n",
      "[Pool -] Mul(Sub($b,$a),Sub($b,$c))\n",
      "[Pool +] Mul(Add(Mul(Constant(4),$b),Sub($b,$a)),$c)\n",
      "[Pool -] Sub($b,Mul(Constant(4),Sub(Sub($c,Mul(Constant(4),Sub($a,$a))),Mul(Constant(4),Mul(Constant(4),$a)))))\n",
      "   8     6.30         0.287438        7         0.476124         0.476124      2.65m\n",
      "[Pool +] Mul(Sub($b,Add($b,$a)),$c)\n",
      "[Pool -] Sub($b,$c)\n",
      "[Pool +] Add(Add($b,Add($c,$a)),$b)\n",
      "[Pool -] Sub($c,$b)\n",
      "[Pool +] Mul(Sub($a,Add($c,$b)),$b)\n",
      "[Pool -] Mul(Add(Mul(Constant(4),Mul(Constant(4),$c)),$c),Add(Mul(Constant(4),$b),$a))\n",
      "[Pool +] Mul(Mul($a,Add($a,$a)),$a)\n",
      "[Pool -] Mul($a,Sub(Add($c,Sub($b,$b)),Mul(Constant(4),$b)))\n",
      "   9     7.11          0.30729        7         0.476124         0.476124      2.29m\n"
     ]
    },
    {
     "name": "stdout",
     "output_type": "stream",
     "text": [
      "[Pool +] Mul(Mul(Mul($a,Add($c,$a)),Add($c,$a)),$c)\n",
      "[Pool -] Mul($a,Add($c,Mul(Constant(4),$b)))\n",
      "[Pool +] Mul(Sub($b,Add($b,$a)),$a)\n",
      "[Pool -] Mul(Add(Mul(Constant(4),$b),Sub($b,$a)),$c)\n",
      "[Pool +] Sub(Add($b,Sub($b,$a)),$c)\n",
      "[Pool -] Add(Add($b,Add($c,$a)),$b)\n",
      "  10     6.95         0.297884       11         0.494431         0.494431      2.78m\n",
      "[Pool +] Mul(Sub(Sub($a,Sub($c,$c)),Sub($c,$b)),$b)\n",
      "[Pool -] Sub(Add($b,Sub($b,$a)),$c)\n",
      "[Pool +] Mul(Mul(Sub($c,Add($c,$b)),Mul($b,$a)),$c)\n",
      "[Pool -] Add(Mul(Constant(4),$a),Sub($c,$b))\n",
      "[Pool +] Add($c,$a)\n",
      "[Pool -] Mul(Mul($a,Mul($a,$a)),$a)\n",
      "[Pool +] Mul(Mul(Mul($a,Mul($b,$b)),Add($c,$a)),$c)\n",
      "[Pool -] Mul(Mul($a,Add($a,$a)),$a)\n",
      "[Pool +] Mul(Mul(Mul(Mul($a,Add($c,$a)),Add($c,$a)),Add($c,$a)),$c)\n",
      "[Pool -] Sub(Mul($b,$b),Mul($a,$c))\n",
      "[Pool +] Mul(Mul(Mul($a,Mul(Mul($b,$b),Add($a,$c))),Add($c,$a)),$c)\n",
      "[Pool -] Add(Mul(Constant(4),Mul($a,$a)),Mul(Mul(Constant(4),$a),Sub($a,$a)))\n",
      "[Pool +] Mul(Mul(Sub($c,Add($c,$a)),Mul($c,$a)),$c)\n",
      "[Pool -] Mul(Sub($b,Add($b,$a)),$a)\n",
      "  11    10.05         0.279897        3         0.498859         0.498859      2.87m\n",
      "  12     3.38         0.376841        3         0.498859         0.498859      1.13m\n",
      "  13     3.28          0.35694        3         0.498859         0.498859      1.37m\n",
      "  14     3.16         0.350816        3         0.498859         0.498859      1.33m\n",
      "  15     3.25         0.345431        3         0.498859         0.498859      1.52m\n",
      "  16     3.22         0.361452        3         0.498859         0.498859      1.26m\n",
      "  17     3.13         0.359571        3         0.498859         0.498859      1.30m\n",
      "  18     3.61          0.36159        3         0.498859         0.498859     58.61s\n",
      "  19     3.52         0.361205        3         0.498859         0.498859      1.23m\n",
      "  20     3.27         0.367417        3         0.498859         0.498859      1.19m\n",
      "  21     3.29         0.370719        3         0.498859         0.498859      1.11m\n",
      "  22     3.32         0.362179        3         0.498859         0.498859     54.85s\n",
      "  23     3.25          0.36719        3         0.498859         0.498859      1.08m\n",
      "  24     3.57         0.361477        3         0.498859         0.498859     55.48s\n",
      "  25     3.47         0.355367        3         0.498859         0.498859     57.00s\n",
      "  26     3.40          0.37299        3         0.498859         0.498859      1.00m\n",
      "  27     3.57         0.355675        3         0.498859         0.498859     47.80s\n",
      "  28     3.31         0.354631        3         0.498859         0.498859     44.29s\n",
      "  29     3.53         0.350897        3         0.498859         0.498859     50.01s\n",
      "  30     3.23         0.342326        3         0.498859         0.498859     45.42s\n",
      "  31     3.32         0.357703        3         0.498859         0.498859     33.47s\n",
      "  32     3.90         0.357233        3         0.498859         0.498859     42.23s\n",
      "[Pool +] Mul(Sub($a,$c),$b)\n",
      "[Pool -] Mul(Constant(4),$a)\n",
      "[Pool +] $a\n",
      "[Pool -] Sub(Mul(Mul(Sub($b,$b),$a),$c),$a)\n",
      "  33     3.26         0.368713        3         0.498859         0.498859     35.26s\n",
      "  34     3.25         0.364644        3         0.498859         0.498859     27.37s\n",
      "  35     3.27         0.348291        3         0.498859         0.498859     30.37s\n",
      "  36     3.19          0.38824        3         0.498859         0.498859     17.84s\n",
      "  37     3.23         0.357539        3         0.498859         0.498859     25.49s\n",
      "  38     3.30         0.354616        3         0.498859         0.498859     18.09s\n",
      "  39     3.61         0.360644        3         0.498859         0.498859     21.36s\n",
      "  40     3.22         0.367253        3         0.498859         0.498859     17.01s\n",
      "  41     3.35         0.338466        3         0.498859         0.498859     19.75s\n",
      "  42     3.30         0.369686        3         0.498859         0.498859     12.90s\n",
      "  43     3.30         0.359388        3         0.498859         0.498859     12.75s\n",
      "  44     3.26         0.351566        3         0.498859         0.498859      9.84s\n",
      "  45     3.41         0.367344        3         0.498859         0.498859      7.60s\n",
      "  46     3.24         0.366547        3         0.498859         0.498859      5.22s\n",
      "  47     3.87         0.332383        3         0.498859         0.498859      5.01s\n",
      "  48     3.68         0.354282        3         0.498859         0.498859      1.95s\n",
      "  49     3.22         0.350361        3         0.498859         0.498859      0.00s\n"
     ]
    },
    {
     "data": {
      "text/html": [
       "<style>#sk-container-id-2 {color: black;background-color: white;}#sk-container-id-2 pre{padding: 0;}#sk-container-id-2 div.sk-toggleable {background-color: white;}#sk-container-id-2 label.sk-toggleable__label {cursor: pointer;display: block;width: 100%;margin-bottom: 0;padding: 0.3em;box-sizing: border-box;text-align: center;}#sk-container-id-2 label.sk-toggleable__label-arrow:before {content: \"▸\";float: left;margin-right: 0.25em;color: #696969;}#sk-container-id-2 label.sk-toggleable__label-arrow:hover:before {color: black;}#sk-container-id-2 div.sk-estimator:hover label.sk-toggleable__label-arrow:before {color: black;}#sk-container-id-2 div.sk-toggleable__content {max-height: 0;max-width: 0;overflow: hidden;text-align: left;background-color: #f0f8ff;}#sk-container-id-2 div.sk-toggleable__content pre {margin: 0.2em;color: black;border-radius: 0.25em;background-color: #f0f8ff;}#sk-container-id-2 input.sk-toggleable__control:checked~div.sk-toggleable__content {max-height: 200px;max-width: 100%;overflow: auto;}#sk-container-id-2 input.sk-toggleable__control:checked~label.sk-toggleable__label-arrow:before {content: \"▾\";}#sk-container-id-2 div.sk-estimator input.sk-toggleable__control:checked~label.sk-toggleable__label {background-color: #d4ebff;}#sk-container-id-2 div.sk-label input.sk-toggleable__control:checked~label.sk-toggleable__label {background-color: #d4ebff;}#sk-container-id-2 input.sk-hidden--visually {border: 0;clip: rect(1px 1px 1px 1px);clip: rect(1px, 1px, 1px, 1px);height: 1px;margin: -1px;overflow: hidden;padding: 0;position: absolute;width: 1px;}#sk-container-id-2 div.sk-estimator {font-family: monospace;background-color: #f0f8ff;border: 1px dotted black;border-radius: 0.25em;box-sizing: border-box;margin-bottom: 0.5em;}#sk-container-id-2 div.sk-estimator:hover {background-color: #d4ebff;}#sk-container-id-2 div.sk-parallel-item::after {content: \"\";width: 100%;border-bottom: 1px solid gray;flex-grow: 1;}#sk-container-id-2 div.sk-label:hover label.sk-toggleable__label {background-color: #d4ebff;}#sk-container-id-2 div.sk-serial::before {content: \"\";position: absolute;border-left: 1px solid gray;box-sizing: border-box;top: 0;bottom: 0;left: 50%;z-index: 0;}#sk-container-id-2 div.sk-serial {display: flex;flex-direction: column;align-items: center;background-color: white;padding-right: 0.2em;padding-left: 0.2em;position: relative;}#sk-container-id-2 div.sk-item {position: relative;z-index: 1;}#sk-container-id-2 div.sk-parallel {display: flex;align-items: stretch;justify-content: center;background-color: white;position: relative;}#sk-container-id-2 div.sk-item::before, #sk-container-id-2 div.sk-parallel-item::before {content: \"\";position: absolute;border-left: 1px solid gray;box-sizing: border-box;top: 0;bottom: 0;left: 50%;z-index: -1;}#sk-container-id-2 div.sk-parallel-item {display: flex;flex-direction: column;z-index: 1;position: relative;background-color: white;}#sk-container-id-2 div.sk-parallel-item:first-child::after {align-self: flex-end;width: 50%;}#sk-container-id-2 div.sk-parallel-item:last-child::after {align-self: flex-start;width: 50%;}#sk-container-id-2 div.sk-parallel-item:only-child::after {width: 0;}#sk-container-id-2 div.sk-dashed-wrapped {border: 1px dashed gray;margin: 0 0.4em 0.5em 0.4em;box-sizing: border-box;padding-bottom: 0.4em;background-color: white;}#sk-container-id-2 div.sk-label label {font-family: monospace;font-weight: bold;display: inline-block;line-height: 1.2em;}#sk-container-id-2 div.sk-label-container {text-align: center;}#sk-container-id-2 div.sk-container {/* jupyter's `normalize.less` sets `[hidden] { display: none; }` but bootstrap.min.css set `[hidden] { display: none !important; }` so we also need the `!important` here to be able to override the default hidden behavior on the sphinx rendered scikit-learn.org. See: https://github.com/scikit-learn/scikit-learn/issues/21755 */display: inline-block !important;position: relative;}#sk-container-id-2 div.sk-text-repr-fallback {display: none;}</style><div id=\"sk-container-id-2\" class=\"sk-top-container\"><div class=\"sk-text-repr-fallback\"><pre>Add(X2, X0)</pre><b>In a Jupyter environment, please rerun this cell to show the HTML representation or trust the notebook. <br />On GitHub, the HTML representation is unable to render, please try loading this page with nbviewer.org.</b></div><div class=\"sk-container\" hidden><div class=\"sk-item\"><div class=\"sk-estimator sk-toggleable\"><input class=\"sk-toggleable__control sk-hidden--visually\" id=\"sk-estimator-id-2\" type=\"checkbox\" checked><label for=\"sk-estimator-id-2\" class=\"sk-toggleable__label sk-toggleable__label-arrow\">SymbolicRegressor</label><div class=\"sk-toggleable__content\"><pre>Add(X2, X0)</pre></div></div></div></div></div>"
      ],
      "text/plain": [
       "SymbolicRegressor(const_range=None,\n",
       "                  function_set=[<gplearn.functions._Function object at 0x0000023789BBFB50>,\n",
       "                                <gplearn.functions._Function object at 0x0000023789BBFAC0>,\n",
       "                                <gplearn.functions._Function object at 0x0000023789BBF730>,\n",
       "                                <gplearn.functions._Function object at 0x00000237FDB5ED60>],\n",
       "                  generations=50, init_depth=(2, 8), max_samples=0.9,\n",
       "                  metric=<gplearn.fitness._Fitness object at 0x000002378C994400>,\n",
       "                  p_crossover=0.3, p_point_mutation=0.1, p_point_replace=0.6,\n",
       "                  p_subtree_mutation=0.1, parsimony_coefficient=0.0,\n",
       "                  population_size=500, random_state=4, stopping_criteria=1.0,\n",
       "                  tournament_size=600, verbose=1)"
      ]
     },
     "execution_count": 38,
     "metadata": {},
     "output_type": "execute_result"
    }
   ],
   "source": [
    "cache = {}\n",
    "\n",
    "est_gp = SymbolicRegressor(population_size=500,\n",
    "                           generations=20,\n",
    "                           init_depth=(2, 8),\n",
    "                           tournament_size=600,\n",
    "                           stopping_criteria=1.,\n",
    "                           p_crossover=0.3,\n",
    "                           p_subtree_mutation=0.1,\n",
    "                           p_hoist_mutation=0.01,\n",
    "                           p_point_mutation=0.1,\n",
    "                           p_point_replace=0.6,\n",
    "                           max_samples=0.9,\n",
    "                           verbose=1,\n",
    "                           parsimony_coefficient=0.,\n",
    "                           random_state=seed,\n",
    "                           function_set=funcs,\n",
    "                           metric=Metric,\n",
    "                           const_range=None,\n",
    "                           n_jobs=1)\n",
    "\n",
    "est_gp.fit(X_train, y_train, callback=ev)"
   ]
  },
  {
   "cell_type": "code",
   "execution_count": 48,
   "id": "5e15337a",
   "metadata": {},
   "outputs": [
    {
     "data": {
      "text/plain": [
       "([Sub($a,$c),\n",
       "  Mul(Add(Mul(Constant(4),Mul(Constant(4),Mul($c,$a))),Mul($a,Mul(Constant(4),Mul($b,Mul(Mul(Constant(4),Sub($b,$b)),Add(Sub($b,$c),$a)))))),$b),\n",
       "  Mul(Add(Mul(Constant(4),$b),Sub($a,Mul(Constant(4),Mul($b,Mul(Mul(Constant(4),Sub($a,$a)),Sub(Sub($c,$a),$b)))))),$c),\n",
       "  Mul(Add(Mul(Constant(4),Add($a,$a)),Sub($a,Mul(Constant(4),Add(Mul(Constant(4),Add($a,$a)),Sub($a,Mul(Constant(4),Mul($b,Mul(Mul(Constant(4),Sub($a,$a)),Sub(Sub($c,$a),$b))))))))),$c),\n",
       "  Add($c,$a),\n",
       "  Mul(Mul(Mul(Constant(4),Add($c,$a)),Sub($a,Mul(Constant(4),Add($b,Sub(Mul(Constant(4),Sub($a,$a)),Sub(Add($a,$c),$b)))))),$c),\n",
       "  Add(Mul($c,$b),Mul($b,$a)),\n",
       "  Add(Mul($c,$c),Mul($a,$a)),\n",
       "  Mul(Sub(Sub(Mul(Constant(4),$a),Mul(Constant(4),$a)),$b),$a),\n",
       "  Mul(Constant(4),Add(Add(Sub(Sub($b,$c),Sub($a,$a)),Sub(Sub($c,$c),Sub($b,$b))),$c)),\n",
       "  Mul(Sub($a,$c),Sub($c,$a)),\n",
       "  Mul(Mul($b,$c),Mul($a,$c)),\n",
       "  Mul($b,$a),\n",
       "  Mul(Add(Mul(Constant(4),Add($a,$b)),Sub($c,Mul(Constant(4),Sub($b,Mul(Mul(Constant(4),Sub($a,$a)),Add(Sub($c,$a),$a)))))),$b),\n",
       "  Mul(Mul(Mul(Constant(4),Mul($b,$a)),Add($a,Mul(Constant(4),Add($c,Sub(Mul(Constant(4),Sub($a,$b)),Sub(Sub($a,$a),$b)))))),$a),\n",
       "  Mul(Add(Mul(Constant(4),Add($a,$a)),Sub($a,Mul(Constant(4),Mul($b,Mul(Mul(Constant(4),Sub($a,$a)),Sub(Sub($c,$a),$b)))))),$c),\n",
       "  Mul(Add(Mul(Constant(4),Mul($b,$a)),Mul($a,Mul(Constant(4),Mul($b,Mul(Mul(Constant(4),Sub($b,$b)),Add(Sub($b,$c),$a)))))),$b),\n",
       "  Mul(Add(Mul(Constant(4),Mul(Add(Mul(Constant(4),Mul($b,$a)),Mul($a,Mul(Constant(4),Mul($b,Mul(Mul(Constant(4),Sub($b,$b)),Add(Sub($b,$c),$a)))))),$b)),Mul($a,Mul(Constant(4),Mul($b,Mul(Mul(Constant(4),Sub($b,$b)),Add(Sub($b,$c),$a)))))),$b),\n",
       "  Add(Mul($b,$b),Mul($a,$c)),\n",
       "  Mul(Constant(4),Mul($b,$c)),\n",
       "  Add(Sub(Mul($a,$b),Sub($c,$c)),Mul($a,$a))],\n",
       " array([-1.        , -0.9999997 , -0.66767639,  0.79668856,  0.99771899,\n",
       "         0.86284745, -1.00000012,  0.99997669, -0.77355886, -1.        ,\n",
       "         0.99998897, -0.79560041, -0.77355886, -0.92538142, -0.77401394,\n",
       "         0.79668868,  0.68190724, -0.97012836,  0.64866537, -0.77355886,\n",
       "        -0.14289942]))"
      ]
     },
     "execution_count": 48,
     "metadata": {},
     "output_type": "execute_result"
    }
   ],
   "source": [
    "exprs, weights"
   ]
  },
  {
   "cell_type": "code",
   "execution_count": null,
   "id": "075c240c",
   "metadata": {},
   "outputs": [],
   "source": []
  },
  {
   "cell_type": "code",
   "execution_count": 21,
   "id": "997a7e0b",
   "metadata": {},
   "outputs": [],
   "source": [
    "key = est_gp._program.execute(X_train)[0]\n",
    "\n",
    "expr = eval(key)\n",
    "\n"
   ]
  },
  {
   "cell_type": "code",
   "execution_count": 17,
   "id": "e79dc5d1",
   "metadata": {},
   "outputs": [
    {
     "data": {
      "text/plain": [
       "Sub(Mul($b,$b),Mul($c,$a))"
      ]
     },
     "execution_count": 17,
     "metadata": {},
     "output_type": "execute_result"
    }
   ],
   "source": [
    "eval('Sub(Mul(b,b),Mul(c,a))')"
   ]
  },
  {
   "cell_type": "code",
   "execution_count": 39,
   "id": "1d835ec2",
   "metadata": {},
   "outputs": [
    {
     "name": "stdout",
     "output_type": "stream",
     "text": [
      "tensor(1.) tensor(1.) tensor(0.)\n",
      "0.0 -564.9691162109375\n",
      "1.0000001192092896 0.7966890931129456\n"
     ]
    }
   ],
   "source": [
    "expr = a * c\n",
    "\n",
    "expr\n",
    "\n",
    "factor = expr.evaluate(data)\n",
    "\n",
    "factor_1 = expr.evaluate(data_1)\n",
    "    \n",
    "factor_2 = expr.evaluate(data_2)\n",
    "\n",
    "factor_3 = expr.evaluate(data_3)\n",
    "\n",
    "factor_4 = expr.evaluate(data_4)\n",
    "\n",
    "print(torch.sum(factor_4 * factor == torch.pow(factor_3, 2)) / data.n_polys, torch.sum((factor == factor_1) & (factor != 0)) / data.n_polys, torch.sum((factor == factor_2) & (factor != 0)) / data.n_polys)\n",
    "\n",
    "print(((factor - factor_1) ** 1 / data.n_polys).sum().item(), ((factor - factor_2) ** 1 / data.n_polys).sum().item())\n",
    "\n",
    "print((batch_pearsonr(factor, factor_1).mean().item()), (batch_pearsonr(factor, factor_2).mean().item()))"
   ]
  },
  {
   "cell_type": "code",
   "execution_count": 53,
   "id": "c8d71d29",
   "metadata": {},
   "outputs": [
    {
     "name": "stdout",
     "output_type": "stream",
     "text": [
      "tensor(1.) tensor(0.9947) tensor(0.)\n",
      "0.0 2908.2421875\n",
      "1.0 0.8957033157348633\n"
     ]
    }
   ],
   "source": [
    "expr = (a-c) * (c - a)\n",
    "\n",
    "expr\n",
    "\n",
    "factor = expr.evaluate(data)\n",
    "\n",
    "factor_1 = expr.evaluate(data_1)\n",
    "    \n",
    "factor_2 = expr.evaluate(data_2)\n",
    "\n",
    "factor_3 = expr.evaluate(data_3)\n",
    "\n",
    "factor_4 = expr.evaluate(data_4)\n",
    "\n",
    "print(torch.sum(factor_4 * factor == torch.pow(factor_3, 2)) / data.n_polys, torch.sum((factor == factor_1) & (factor != 0)) / data.n_polys, torch.sum((factor == factor_2) & (factor != 0)) / data.n_polys)\n",
    "\n",
    "print(((factor - factor_1) ** 1 / data.n_polys).sum().item(), ((factor - factor_2) ** 1 / data.n_polys).sum().item())\n",
    "\n",
    "print((batch_pearsonr(factor, factor_1).mean().item()), (batch_pearsonr(factor[:, :10], factor_2[:, :10]).mean().item()))"
   ]
  },
  {
   "cell_type": "code",
   "execution_count": null,
   "id": "fef09177",
   "metadata": {},
   "outputs": [],
   "source": []
  },
  {
   "cell_type": "code",
   "execution_count": null,
   "id": "ed456ea6",
   "metadata": {},
   "outputs": [],
   "source": []
  },
  {
   "cell_type": "code",
   "execution_count": null,
   "id": "ab7fc36d",
   "metadata": {},
   "outputs": [],
   "source": []
  },
  {
   "cell_type": "code",
   "execution_count": null,
   "id": "05152878",
   "metadata": {},
   "outputs": [],
   "source": []
  },
  {
   "cell_type": "code",
   "execution_count": null,
   "id": "67e4a702",
   "metadata": {},
   "outputs": [],
   "source": []
  }
 ],
 "metadata": {
  "kernelspec": {
   "display_name": "Python 3 (ipykernel)",
   "language": "python",
   "name": "python3"
  },
  "language_info": {
   "codemirror_mode": {
    "name": "ipython",
    "version": 3
   },
   "file_extension": ".py",
   "mimetype": "text/x-python",
   "name": "python",
   "nbconvert_exporter": "python",
   "pygments_lexer": "ipython3",
   "version": "3.9.15"
  }
 },
 "nbformat": 4,
 "nbformat_minor": 5
}
