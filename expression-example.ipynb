{
 "cells": [
  {
   "cell_type": "code",
   "execution_count": 1,
   "id": "10693aff",
   "metadata": {},
   "outputs": [],
   "source": [
    "import json\n",
    "import os\n",
    "from collections import Counter\n",
    "\n",
    "import numpy as np"
   ]
  },
  {
   "cell_type": "code",
   "execution_count": 2,
   "id": "3bacffae",
   "metadata": {},
   "outputs": [],
   "source": [
    "from invargen.data.expression import *\n",
    "from invargen.data.tokens import *\n",
    "from invargen.data.tree import *"
   ]
  },
  {
   "cell_type": "code",
   "execution_count": 3,
   "id": "3befdfa6",
   "metadata": {},
   "outputs": [
    {
     "name": "stdout",
     "output_type": "stream",
     "text": [
      "Sub(Pow($b,Constant(2)),Mul(Mul(Constant(4),$a),$c))\n",
      "Sub(Pow($b,Constant(2)),Mul($a,$c))\n"
     ]
    }
   ],
   "source": [
    "b = Feature(FeatureType.B)\n",
    "c = Feature(FeatureType.C)\n",
    "a = Feature(FeatureType.A)\n",
    "\n",
    "print(b**2 - 4 * a * c)\n",
    "print(f'{str(b**2 - a * c)}')"
   ]
  },
  {
   "cell_type": "code",
   "execution_count": 4,
   "id": "b8d8b265",
   "metadata": {},
   "outputs": [
    {
     "name": "stdout",
     "output_type": "stream",
     "text": [
      "Sub(Mul($b,$b),Mul($a,$c))\n"
     ]
    }
   ],
   "source": [
    "tokens = [\n",
    "        FeatureToken(FeatureType.B),\n",
    "        FeatureToken(FeatureType.B),\n",
    "        OperatorToken(Mul),\n",
    "        FeatureToken(FeatureType.A),\n",
    "        FeatureToken(FeatureType.C),\n",
    "        OperatorToken(Mul),\n",
    "        OperatorToken(Sub),\n",
    "    ]\n",
    "\n",
    "builder = ExpressionBuilder()\n",
    "for token in tokens:\n",
    "    builder.add_token(token)\n",
    "    \n",
    "print(f'{str(builder.get_tree())}')"
   ]
  },
  {
   "cell_type": "code",
   "execution_count": null,
   "id": "2987d2d9",
   "metadata": {},
   "outputs": [],
   "source": []
  }
 ],
 "metadata": {
  "kernelspec": {
   "display_name": "Python 3 (ipykernel)",
   "language": "python",
   "name": "python3"
  },
  "language_info": {
   "codemirror_mode": {
    "name": "ipython",
    "version": 3
   },
   "file_extension": ".py",
   "mimetype": "text/x-python",
   "name": "python",
   "nbconvert_exporter": "python",
   "pygments_lexer": "ipython3",
   "version": "3.9.15"
  }
 },
 "nbformat": 4,
 "nbformat_minor": 5
}
