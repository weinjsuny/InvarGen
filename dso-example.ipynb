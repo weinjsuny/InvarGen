{
 "cells": [
  {
   "cell_type": "code",
   "execution_count": 33,
   "id": "10693aff",
   "metadata": {},
   "outputs": [],
   "source": [
    "import numpy as np\n",
    "\n",
    "from invargen.data.expression import *\n",
    "from dso import DeepSymbolicRegressor\n",
    "from dso.library import Token, HardCodedConstant\n",
    "from dso import functions\n",
    "from invargen.models.alpha_pool import AlphaPool\n",
    "from invargen.utils import reseed_everything\n",
    "from invargen_generic.operators import funcs as generic_funcs\n",
    "from invargen_generic.features import *\n",
    "\n",
    "import tensorflow as tf"
   ]
  },
  {
   "cell_type": "code",
   "execution_count": 34,
   "id": "084c156b",
   "metadata": {},
   "outputs": [],
   "source": [
    "def prime_numbers(n):\n",
    "    primes = []\n",
    "    for i in range(2, n + 1):\n",
    "        for j in range(2, int(i ** 0.5) + 1):\n",
    "            if i%j == 0:\n",
    "                break\n",
    "        else:\n",
    "            primes.append(i)\n",
    "    return primes\n",
    "\n",
    "prime_list = prime_numbers(50)\n"
   ]
  },
  {
   "cell_type": "code",
   "execution_count": null,
   "id": "c51fd251",
   "metadata": {},
   "outputs": [],
   "source": []
  },
  {
   "cell_type": "code",
   "execution_count": 35,
   "id": "3bacffae",
   "metadata": {},
   "outputs": [],
   "source": [
    "# this is GSO tokens\n",
    "\n",
    "funcs = {func.name: Token(complexity=1, **func._asdict()) for func in generic_funcs}\n",
    "\n",
    "#for v in prime_list:\n",
    "    #funcs[f'Constant({v})'] = HardCodedConstant(name=f'Constant({v})', value=v)\n",
    "    \n",
    "for i, feature in enumerate(['a', 'b', 'c']):\n",
    "    funcs[f'x{i+1}'] = Token(name=feature, arity=0, complexity=1, function=None, input_var=i)"
   ]
  },
  {
   "cell_type": "code",
   "execution_count": 36,
   "id": "059b88b8",
   "metadata": {},
   "outputs": [],
   "source": [
    "def const(cls):\n",
    "    \n",
    "    def _calc(a):\n",
    "        \n",
    "        n = len(a)\n",
    "    \n",
    "        return np.array([f'Mul(Constant({str(cls)}),{a[i]})' for i in range(n)])\n",
    "\n",
    "    return _calc\n",
    "        \n",
    "const_ops = [i for i in range(4, 5)]\n",
    "    \n",
    "#funcs = {}\n",
    "# Annotate unprotected ops\n",
    "for op in const_ops:\n",
    "    \n",
    "    funcs[str(op)] = Token(function=const(str(op)), name=str(op), arity=1, complexity=1)"
   ]
  },
  {
   "cell_type": "code",
   "execution_count": 37,
   "id": "e9f138fa",
   "metadata": {},
   "outputs": [
    {
     "data": {
      "text/plain": [
       "['Add', 'Sub', 'Mul', 'x1', 'x2', 'x3', '4']"
      ]
     },
     "execution_count": 37,
     "metadata": {},
     "output_type": "execute_result"
    }
   ],
   "source": [
    "list(funcs.keys())"
   ]
  },
  {
   "cell_type": "code",
   "execution_count": 20,
   "id": "ed8c8869",
   "metadata": {},
   "outputs": [],
   "source": [
    "seed = 4\n",
    "\n",
    "import torch\n",
    "from torch import Tensor\n",
    "\n",
    "device = torch.device('cpu')\n",
    "\n",
    "from invargen_qlib.poly_data import PolyData\n",
    "\n",
    "data = PolyData(device=device)\n",
    "\n",
    "data_1 = PolyData(device=device)\n",
    "\n",
    "data_2 = PolyData(device=device)\n",
    "\n",
    "data_3 = PolyData(device=device)\n",
    "\n",
    "data_4 = PolyData(device=device)"
   ]
  },
  {
   "cell_type": "code",
   "execution_count": 21,
   "id": "3efd4d13",
   "metadata": {},
   "outputs": [
    {
     "data": {
      "text/plain": [
       "tensor([[[  1.,   2.,   2.,  ...,  51.,  55.,  55.],\n",
       "         [ -0.,  -1.,  -0.,  ...,  -1.,  35., -35.],\n",
       "         [  1.,   1.,   1.,  ...,  49.,  51.,  51.]]])"
      ]
     },
     "execution_count": 21,
     "metadata": {},
     "output_type": "execute_result"
    }
   ],
   "source": [
    "# first transform under (0, 1//-1, 0)\n",
    "\n",
    "data_1.data[0][[0, 2]] = data_1.data[0][[2, 0]]\n",
    "\n",
    "data_1.data[0][[1]] = -data_1.data[0][[1]]\n",
    "\n",
    "data_1.data"
   ]
  },
  {
   "cell_type": "code",
   "execution_count": 22,
   "id": "390b2dfa",
   "metadata": {},
   "outputs": [
    {
     "data": {
      "text/plain": [
       "tensor([[[  1.,   1.,   1.,  ...,  49.,  51.,  51.],\n",
       "         [  2.,   3.,   2.,  ...,  99.,  67., 137.],\n",
       "         [  2.,   4.,   3.,  ..., 101.,  71., 141.]]])"
      ]
     },
     "execution_count": 22,
     "metadata": {},
     "output_type": "execute_result"
    }
   ],
   "source": [
    "# second transform under (1, 1//0, 1)\n",
    "\n",
    "data_2.data[0][[2]] = data_2.data[0][[2]] + 1 * data_2.data[0][[1]] + data_2.data[0][[0]]\n",
    "\n",
    "data_2.data[0][[1]] = data_2.data[0][[1]] + data_2.data[0][[0]] * 2\n",
    "\n",
    "data_2.data"
   ]
  },
  {
   "cell_type": "code",
   "execution_count": 23,
   "id": "8b304950",
   "metadata": {},
   "outputs": [
    {
     "data": {
      "text/plain": [
       "tensor([[[  2.,   2.,   2.,  ...,  98., 102., 102.],\n",
       "         [  0.,   2.,   0.,  ...,   2., -70.,  70.],\n",
       "         [  2.,   4.,   4.,  ..., 102., 110., 110.]]])"
      ]
     },
     "execution_count": 23,
     "metadata": {},
     "output_type": "execute_result"
    }
   ],
   "source": [
    "# second transform under (1, 1//0, 1)\n",
    "\n",
    "data_3.data = data.data * 2\n",
    "\n",
    "data_3.data"
   ]
  },
  {
   "cell_type": "code",
   "execution_count": 24,
   "id": "97f33400",
   "metadata": {},
   "outputs": [
    {
     "data": {
      "text/plain": [
       "tensor([[[   4.,    4.,    4.,  ...,  196.,  204.,  204.],\n",
       "         [   0.,    4.,    0.,  ...,    4., -140.,  140.],\n",
       "         [   4.,    8.,    8.,  ...,  204.,  220.,  220.]]])"
      ]
     },
     "execution_count": 24,
     "metadata": {},
     "output_type": "execute_result"
    }
   ],
   "source": [
    "# second transform under (1, 1//0, 1)\n",
    "\n",
    "data_4.data = data.data * 4\n",
    "\n",
    "data_4.data"
   ]
  },
  {
   "cell_type": "code",
   "execution_count": 38,
   "id": "1110c7cb",
   "metadata": {},
   "outputs": [],
   "source": [
    "X = np.array([['a', 'b', 'c']])\n",
    "y = np.array([[1]])\n",
    "\n",
    "functions.function_map = funcs\n",
    "\n",
    "pool = AlphaPool(capacity=10, poly_data=data, ic_lower_bound=None)"
   ]
  },
  {
   "cell_type": "code",
   "execution_count": 39,
   "id": "276dfdc2",
   "metadata": {},
   "outputs": [
    {
     "name": "stdout",
     "output_type": "stream",
     "text": [
      "Sub(Pow($b,Constant(2)),Mul(Mul(Constant(4),$a),$c))\n"
     ]
    },
    {
     "data": {
      "text/plain": [
       "tensor([[True, True, True,  ..., True, True, True]])"
      ]
     },
     "execution_count": 39,
     "metadata": {},
     "output_type": "execute_result"
    }
   ],
   "source": [
    "b = Feature(FeatureType.B)\n",
    "c = Feature(FeatureType.C)\n",
    "a = Feature(FeatureType.A)\n",
    "\n",
    "exprs = b**2 - 4 * a * c\n",
    "\n",
    "print(repr(exprs))\n",
    "\n",
    "exprs.evaluate(data_4) * exprs.evaluate(data) == exprs.evaluate(data_3) **2"
   ]
  },
  {
   "cell_type": "code",
   "execution_count": 42,
   "id": "115282b3",
   "metadata": {},
   "outputs": [],
   "source": [
    "from invargen.utils.correlation import batch_pearsonr, batch_spearmanr\n",
    "from typing import Tuple, Optional\n",
    "\n",
    "capacity = 20\n",
    "\n",
    "exprs = [None for _ in range(capacity + 1)]\n",
    "values = [None for _ in range(capacity + 1)]\n",
    "single_ics = np.zeros(capacity+1)\n",
    "mutual_ics = np.identity(capacity+1)\n",
    "weights = np.zeros(capacity + 1)\n",
    "\n",
    "size = 0\n",
    "\n",
    "\n",
    "def _calc_ics(factor, ic_mut_threshold):\n",
    "    \n",
    "    global size, values\n",
    "        \n",
    "    mutual_ics = []\n",
    "    \n",
    "    for i in range(size):\n",
    "        \n",
    "        mutual_ic = batch_pearsonr(factor, values[i]).mean().item()\n",
    "        \n",
    "        if mutual_ic > ic_mut_threshold:\n",
    "            \n",
    "            return None\n",
    "        \n",
    "        mutual_ics.append(mutual_ic)\n",
    "        \n",
    "    return mutual_ics\n",
    "\n",
    "\n",
    "def _add_factor(expr, factor, ic_ret, ic_mut):\n",
    "    \n",
    "    global size, exprs, values, single_ics, mutual_ics, weights\n",
    "    \n",
    "    n = size\n",
    "    \n",
    "    exprs[n] = expr\n",
    "    \n",
    "    values[n] = factor\n",
    "    \n",
    "    single_ics[n] = ic_ret\n",
    "    \n",
    "    for i in range(n):\n",
    "        \n",
    "        mutual_ics[i][n] = ic_mut[i]\n",
    "        \n",
    "    size += 1\n",
    "    \n",
    "    weights[n] = ic_ret\n",
    "    \n",
    "\n",
    "def _optimize():\n",
    "    \n",
    "    global size, weights\n",
    "    \n",
    "    return weights[:size]\n",
    "\n",
    "\n",
    "def _pop():\n",
    "    \n",
    "    global size, capacity, weights\n",
    "    \n",
    "    if size <= capacity: return\n",
    "    \n",
    "    idx = np.argmin(np.abs(weights))\n",
    "    \n",
    "    _swap_idx(idx, capacity)\n",
    "    \n",
    "    size = capacity\n",
    "    \n",
    "\n",
    "def _swap_idx(i, j):\n",
    "    \n",
    "    global size, exprs, values, single_ics, mutual_ics, weights\n",
    "    \n",
    "    exprs[i], exprs[j] = exprs[j], exprs[i]\n",
    "    \n",
    "    values[i], values[j] = values[j], values[i]\n",
    "    \n",
    "    single_ics[i], single_ics[j] = single_ics[j], single_ics[i]\n",
    "    \n",
    "    mutual_ics[:, [i, j]] = mutual_ics[:, [j, i]] \n",
    "    \n",
    "    mutual_ics[[i, j], :] = mutual_ics[[j, i], :] \n",
    "    \n",
    "    weights[i], weights[j] = weights[j], weights[i]\n",
    "    \n",
    "    \n",
    "\n",
    "\n",
    "class Ev:\n",
    "    \n",
    "    global data, data_1, data_2, data_3, data_4, exprs, weights\n",
    "    \n",
    "    def __init__(self, pool):\n",
    "        self.cnt = 0\n",
    "        self.pool = pool\n",
    "        self.results = {}\n",
    "\n",
    "    def alpha_ev_fn(self, key):\n",
    "        \n",
    "        expr = eval(key)\n",
    "        \n",
    "        #print(expr)\n",
    "                \n",
    "        factor = expr.evaluate(data)\n",
    "\n",
    "        factor_1 = expr.evaluate(data_1)\n",
    "\n",
    "        factor_2 = expr.evaluate(data_2)\n",
    "        \n",
    "        factor_3 = expr.evaluate(data_3)\n",
    "\n",
    "        factor_4 = expr.evaluate(data_4)\n",
    "        \n",
    "        ic = torch.sum(factor_4 * factor == factor_3 ** 2) / data.n_polys\n",
    "        \n",
    "        ic = torch.sum(factor_4 * factor == torch.pow(factor_3, 2)) / data.n_polys\n",
    "    \n",
    "        if ic.item() < 1: return 0\n",
    "                \n",
    "                \n",
    "        #ic_ret = ic.item() * (0.5 * torch.sum((factor == factor_1) & (factor != 0)) / data.n_polys \\\n",
    "        #+ 0.5 * torch.sum((factor == factor_2) & (factor != 0)) / data.n_polys).item()\n",
    "    \n",
    "        ic_ret = min(batch_pearsonr(factor, factor_1).mean().item(), batch_pearsonr(factor, factor_2).mean().item())\n",
    "\n",
    "        ic_mut = _calc_ics(factor, ic_mut_threshold=0.99) # if factor is highly correlated to any of the factors in memory return 0\n",
    "\n",
    "        if ic_ret is None or ic_mut is None:\n",
    "\n",
    "            #print(expr, ic_ret)\n",
    "\n",
    "            return 0\n",
    "\n",
    "\n",
    "        _add_factor(expr, factor, ic_ret, ic_mut)\n",
    "\n",
    "        if size > 1:\n",
    "\n",
    "            new_weights = _optimize()\n",
    "\n",
    "            worst_idx = np.argmin(np.abs(new_weights))\n",
    "\n",
    "            if worst_idx != capacity:\n",
    "\n",
    "                weights[:size] = new_weights\n",
    "\n",
    "                print(f\"[Pool +] {expr}\")\n",
    "\n",
    "                if size > capacity:\n",
    "\n",
    "                    print(f\"[Pool -] {exprs[worst_idx]}\")\n",
    "\n",
    "\n",
    "            _pop()\n",
    "\n",
    "    \n",
    "        return ic_ret\n",
    "\n",
    "ev = Ev(pool)\n",
    "\n",
    "\n",
    "config = dict(\n",
    "    task=dict(\n",
    "        task_type='regression',\n",
    "        function_set=list(funcs.keys()),\n",
    "        metric='alphagen',\n",
    "        metric_params=[lambda key: ev.alpha_ev_fn(key)],\n",
    "    ),\n",
    "    training={'n_samples': 1000, 'batch_size': 100, 'epsilon': 0.05},\n",
    "    prior={'length': {'min_': 2, 'max_': 20, 'on': True}}\n",
    ")"
   ]
  },
  {
   "cell_type": "code",
   "execution_count": null,
   "id": "d79c3721",
   "metadata": {},
   "outputs": [],
   "source": []
  },
  {
   "cell_type": "code",
   "execution_count": null,
   "id": "f6ff6279",
   "metadata": {},
   "outputs": [],
   "source": []
  },
  {
   "cell_type": "code",
   "execution_count": 43,
   "id": "7e6a22fa",
   "metadata": {},
   "outputs": [
    {
     "name": "stdout",
     "output_type": "stream",
     "text": [
      "[x1, x2, x3]\n",
      "WARNING: logdir not provided. Results will not be saved to file.\n",
      "-- BUILDING PRIOR START -------------\n",
      "WARNING: Skipping invalid 'RelationalConstraint' with arguments {'targets': [], 'effectors': [], 'relationship': None}. Reason: Prior disabled.\n",
      "WARNING: Skipping invalid 'RepeatConstraint' with arguments {'tokens': 'const', 'min_': None, 'max_': 3}. Reason: Uses Tokens not in the Library.\n",
      "WARNING: Skipping invalid 'InverseUnaryConstraint' with arguments {}. Reason: There are no inverse unary Token pairs in the Library.\n",
      "WARNING: Skipping invalid 'TrigConstraint' with arguments {}. Reason: There are no target Tokens.\n",
      "WARNING: Skipping invalid 'ConstConstraint' with arguments {}. Reason: Uses Tokens not in the Library.\n",
      "WARNING: Skipping invalid 'NoInputsConstraint' with arguments {}. Reason: All terminal tokens are input variables, so allsequences will have an input variable.\n",
      "WARNING: Skipping invalid 'DomainRangeConstraint' with arguments {}. Reason: Prior disabled.\n",
      "WARNING: Skipping invalid 'MultiDiscreteConstraint' with arguments {'dense': False, 'ordered': False}. Reason: Prior disabled.\n",
      "LengthConstraint: Sequences have minimum length 2.\n",
      "                  Sequences have maximum length 20.\n",
      "UniformArityPrior: Activated.\n",
      "SoftLengthPrior: No description available.\n",
      "-- BUILDING PRIOR END ---------------\n",
      "\n",
      "WARNING: max_length (64) will be overridden by value from LengthConstraint (20).\n"
     ]
    },
    {
     "name": "stderr",
     "output_type": "stream",
     "text": [
      "C:\\Users\\jun.wen.UNTL\\Documents\\Research\\invargen\\dso\\policy\\rnn_policy.py:141: UserWarning: `tf.nn.rnn_cell.LSTMCell` is deprecated and will be removed in a future version. This class is equivalent as `tf.keras.layers.LSTMCell`, and will be replaced by that in Tensorflow 2.0.\n",
      "  return tf.nn.rnn_cell.LSTMCell(num_units, initializer=initializer)\n",
      "C:\\Users\\jun.wen.UNTL\\Documents\\Research\\invargen\\dso\\policy\\rnn_policy.py:28: UserWarning: `tf.layers.dense` is deprecated and will be removed in a future version. Please use `tf.keras.layers.Dense` instead.\n",
      "  logits = tf.layers.dense(outputs, units=self._output_size)\n"
     ]
    },
    {
     "name": "stdout",
     "output_type": "stream",
     "text": [
      "-- RUNNING ITERATIONS START -------------\n",
      "[Pool +] Add(Mul(Constant(4),$a),Mul(Constant(4),Mul(Constant(4),Mul(Constant(4),Add($c,Sub($b,Mul(Constant(4),Sub($a,Add($a,$c)))))))))\n",
      "[Pool +] Mul($b,Mul(Mul(Mul(Constant(4),Sub(Mul(Constant(4),$b),$a)),Mul(Constant(4),$c)),Mul(Mul(Constant(4),Mul(Constant(4),Mul(Constant(4),$c))),$a)))\n",
      "[Pool +] Mul(Constant(4),Mul(Constant(4),Mul(Constant(4),Mul(Mul(Constant(4),$a),$c))))\n",
      "[Pool +] Sub(Mul(Constant(4),$c),Mul(Constant(4),Mul(Constant(4),Mul(Constant(4),Sub(Sub(Mul(Constant(4),Mul(Constant(4),$c)),$a),$b)))))\n",
      "[Pool +] Mul(Constant(4),Mul(Constant(4),Mul(Constant(4),Mul($a,Mul($a,Mul(Mul(Constant(4),Add($c,Mul(Constant(4),$b))),$c))))))\n",
      "[Pool +] Mul(Constant(4),Mul(Constant(4),Mul(Mul(Constant(4),$a),Mul(Constant(4),Mul(Constant(4),Mul(Mul(Constant(4),$b),$b))))))\n",
      "[Pool +] Mul($c,Mul(Constant(4),Mul(Constant(4),Mul(Constant(4),Mul(Constant(4),Mul(Constant(4),Mul(Mul(Constant(4),Mul(Constant(4),$c)),Add($c,$b))))))))\n",
      "[Pool +] Mul(Constant(4),Mul(Mul(Constant(4),$c),Sub(Sub(Add($c,Add(Mul(Constant(4),Sub(Mul(Constant(4),$c),$a)),$a)),$a),$c)))\n",
      "[Pool +] Add($b,Mul(Constant(4),Mul(Constant(4),Sub(Mul(Constant(4),Mul(Constant(4),$a)),Sub($b,$c)))))\n",
      "[Pool +] Add(Mul(Constant(4),$c),Mul(Constant(4),Mul(Constant(4),Mul(Constant(4),Mul(Constant(4),Mul(Constant(4),Mul(Constant(4),Add($b,$b))))))))\n",
      "[Pool +] Mul(Constant(4),Add(Sub($c,Sub($c,Mul(Constant(4),$b))),Mul(Constant(4),Add(Mul(Constant(4),Mul(Constant(4),$a)),$b))))\n",
      "[Pool +] Mul(Constant(4),Mul(Mul(Constant(4),$a),Mul(Constant(4),Sub($b,$b))))\n",
      "[Pool +] Mul(Mul(Mul(Mul(Constant(4),Mul(Constant(4),Mul(Mul(Constant(4),Mul(Constant(4),Add(Sub(Mul(Constant(4),$a),Mul(Constant(4),Mul(Constant(4),$a))),$b))),$c))),$c),$b),$a)\n",
      "[Pool +] Mul(Constant(4),Mul(Constant(4),Mul(Mul(Constant(4),Sub($b,Sub(Mul(Constant(4),Mul(Constant(4),Mul(Constant(4),$a))),$a))),$a)))\n",
      "[Pool +] Mul(Constant(4),Mul(Mul(Constant(4),Mul(Constant(4),Mul(Constant(4),Mul(Constant(4),Mul(Constant(4),Mul(Constant(4),Add(Mul(Constant(4),Mul(Constant(4),Sub($c,Mul(Constant(4),Add($b,$c))))),$a))))))),$c))\n",
      "[Pool +] Add(Sub($b,$b),Mul(Constant(4),Mul(Constant(4),Mul(Constant(4),Mul($a,$b)))))\n",
      "[Pool +] Mul(Constant(4),Mul(Constant(4),Mul(Constant(4),Mul($a,Mul($c,Add(Sub(Mul(Constant(4),$a),Mul(Constant(4),$a)),$a))))))\n",
      "[Pool +] Sub($b,Mul(Constant(4),Mul(Constant(4),Add(Sub(Mul(Constant(4),Mul(Constant(4),$b)),$c),$b))))\n",
      "[Pool +] Add(Mul(Constant(4),Add(Mul(Constant(4),$c),Mul(Constant(4),Mul(Constant(4),Mul(Constant(4),$b))))),Add($c,$c))\n",
      "[Pool +] Mul(Mul(Mul(Constant(4),Add($a,Mul(Constant(4),$a))),Mul(Constant(4),Add(Mul(Constant(4),Mul(Constant(4),Mul(Constant(4),$b))),$b))),$c)\n",
      "[Pool -] Mul(Constant(4),Mul(Mul(Constant(4),$a),Mul(Constant(4),Sub($b,$b))))\n",
      "[Pool +] Mul($a,Mul(Constant(4),Add($b,Mul(Constant(4),Add($b,Mul(Constant(4),Mul(Constant(4),Mul(Constant(4),$a))))))))\n",
      "[Pool -] Mul($c,Mul(Constant(4),Mul(Constant(4),Mul(Constant(4),Mul(Constant(4),Mul(Constant(4),Mul(Mul(Constant(4),Mul(Constant(4),$c)),Add($c,$b))))))))\n",
      "[Pool +] Mul(Mul(Constant(4),Mul($b,Add(Sub(Mul(Constant(4),$c),Mul(Constant(4),$c)),Mul($a,$c)))),$c)\n",
      "[Pool -] Mul(Constant(4),Mul(Mul(Constant(4),Mul(Constant(4),Mul(Constant(4),Mul(Constant(4),Mul(Constant(4),Mul(Constant(4),Add(Mul(Constant(4),Mul(Constant(4),Sub($c,Mul(Constant(4),Add($b,$c))))),$a))))))),$c))\n",
      "[Pool +] Mul(Constant(4),Mul(Constant(4),Mul(Constant(4),Mul(Constant(4),Mul(Constant(4),Mul(Constant(4),Mul(Constant(4),Mul(Constant(4),Sub($b,$a)))))))))\n",
      "[Pool -] Mul($a,Mul(Constant(4),Add($b,Mul(Constant(4),Add($b,Mul(Constant(4),Mul(Constant(4),Mul(Constant(4),$a))))))))\n",
      "[Pool +] Mul(Constant(4),Sub($a,Mul(Constant(4),Mul(Constant(4),Mul(Constant(4),Sub(Add(Mul(Constant(4),$c),Add(Mul(Constant(4),Mul(Constant(4),$a)),$b)),Sub($a,$b)))))))\n",
      "[Pool -] Mul(Constant(4),Mul(Constant(4),Mul(Mul(Constant(4),Sub($b,Sub(Mul(Constant(4),Mul(Constant(4),Mul(Constant(4),$a))),$a))),$a)))\n",
      "[Pool +] Mul(Constant(4),Mul(Constant(4),Mul(Constant(4),Sub($a,Add(Add($c,Mul(Constant(4),$b)),$a)))))\n",
      "[Pool -] Add(Mul(Constant(4),$a),Mul(Constant(4),Mul(Constant(4),Mul(Constant(4),Add($c,Sub($b,Mul(Constant(4),Sub($a,Add($a,$c)))))))))\n",
      "[00:00:00:01.48] Training iteration 1, current best R: 0.9883\n",
      "\n",
      "\t** New best\n",
      "\tReward: 0.98828125\n",
      "\tCount Off-policy: 0\n",
      "\tCount On-policy: 1\n",
      "\tOriginally on Policy: True\n",
      "\tInvalid: False\n",
      "\tTraversal: 4,Sub,x1,4,4,4,Sub,Add,4,c,Add,4,4,x1,b,Sub,x1,b\n",
      "\tExpression:\n",
      "\t  4(Sub(x1,4(4(4(Sub(Add(4(c),Add(4(4(x1)),b)),Sub(x1,b)))))))\n",
      "\n",
      "-- RUNNING ITERATIONS START -------------\n",
      "[Pool +] Sub($b,Mul(Constant(4),Sub(Mul(Constant(4),Add($b,$a)),$c)))\n",
      "[Pool -] Mul(Constant(4),Mul(Constant(4),Mul(Constant(4),Mul($a,Mul($c,Add(Sub(Mul(Constant(4),$a),Mul(Constant(4),$a)),$a))))))\n",
      "[Pool +] Mul(Constant(4),Mul(Constant(4),Mul(Mul(Constant(4),Mul(Constant(4),$b)),Mul(Constant(4),Mul(Constant(4),$c)))))\n",
      "[Pool -] Mul(Constant(4),Mul(Mul(Constant(4),$c),Sub(Sub(Add($c,Add(Mul(Constant(4),Sub(Mul(Constant(4),$c),$a)),$a)),$a),$c)))\n",
      "[Pool +] Mul(Mul(Constant(4),Mul(Constant(4),$c)),Mul(Mul(Constant(4),Mul(Constant(4),$a)),Sub(Mul(Constant(4),Add($b,$a)),$c)))\n",
      "[Pool -] Mul($a,Mul(Constant(4),Mul(Constant(4),Sub(Mul(Constant(4),Mul(Constant(4),Sub(Mul(Constant(4),$c),Mul(Constant(4),$a)))),$c))))\n",
      "[Pool +] Sub($b,Add($b,Mul(Constant(4),Mul(Constant(4),Add(Mul(Constant(4),Mul(Constant(4),$a)),$b)))))\n",
      "[Pool -] Mul(Constant(4),Mul(Constant(4),Mul(Constant(4),Sub($a,Add(Add($c,Mul(Constant(4),$b)),$a)))))\n",
      "[Pool +] Mul(Constant(4),Mul(Constant(4),Mul(Constant(4),Mul(Constant(4),Add(Add($a,Add(Mul(Constant(4),Mul(Constant(4),Mul(Constant(4),Mul(Constant(4),Sub(Mul(Constant(4),$a),$c))))),$c)),$a)))))\n",
      "[Pool -] Mul(Constant(4),Mul(Constant(4),Mul(Constant(4),Mul(Constant(4),Mul(Constant(4),Mul(Constant(4),Mul(Constant(4),Mul(Constant(4),Sub($b,$a)))))))))\n",
      "[Pool +] Sub($c,Sub(Sub($c,Add(Mul(Constant(4),Mul(Constant(4),$c)),Mul(Constant(4),Mul(Constant(4),Mul(Constant(4),Mul(Constant(4),$c)))))),$a))\n",
      "[Pool -] Mul($b,Mul(Mul(Mul(Constant(4),Sub(Mul(Constant(4),$b),$a)),Mul(Constant(4),$c)),Mul(Mul(Constant(4),Mul(Constant(4),Mul(Constant(4),$c))),$a)))\n",
      "[Pool +] Mul(Constant(4),Mul(Mul(Constant(4),Mul(Constant(4),Mul(Constant(4),Mul($b,$b)))),Mul(Constant(4),Mul(Mul(Constant(4),Mul(Constant(4),Mul(Constant(4),$c))),$a))))\n",
      "[Pool -] Sub($c,Sub(Sub($c,Add(Mul(Constant(4),Mul(Constant(4),$c)),Mul(Constant(4),Mul(Constant(4),Mul(Constant(4),Mul(Constant(4),$c)))))),$a))\n",
      "[Pool +] Mul(Constant(4),Mul(Constant(4),Add(Mul(Constant(4),Mul(Constant(4),Add(Mul(Constant(4),$a),$c))),$c)))\n",
      "[Pool -] Mul(Constant(4),Add(Sub($c,Sub($c,Mul(Constant(4),$b))),Mul(Constant(4),Add(Mul(Constant(4),Mul(Constant(4),$a)),$b))))\n",
      "[Pool +] Mul(Constant(4),Sub(Mul(Constant(4),$b),Sub($c,Add(Mul(Constant(4),$a),Mul(Constant(4),Sub($c,Mul(Constant(4),Mul(Constant(4),Mul(Constant(4),$a)))))))))\n",
      "[Pool -] Sub($b,Add($b,Mul(Constant(4),Mul(Constant(4),Add(Mul(Constant(4),Mul(Constant(4),$a)),$b)))))\n",
      "[00:00:00:01.55] Training iteration 2, current best R: 0.9888\n",
      "\n",
      "\t** New best\n",
      "\tReward: 0.9887834787368774\n",
      "\tCount Off-policy: 0\n",
      "\tCount On-policy: 1\n",
      "\tOriginally on Policy: True\n",
      "\tInvalid: False\n",
      "\tTraversal: 4,4,Add,4,4,Add,4,a,x3,x3\n",
      "\tExpression:\n",
      "\t  4(4(Add(4(4(Add(4(a),x3))),x3)))\n",
      "\n",
      "-- RUNNING ITERATIONS START -------------\n",
      "[Pool +] Mul(Constant(4),Mul(Mul(Constant(4),$a),Mul(Constant(4),Mul(Constant(4),Mul(Constant(4),Mul(Mul(Mul(Constant(4),$c),Sub(Mul(Constant(4),Sub($a,$a)),$a)),$b))))))\n",
      "[Pool -] Add(Mul(Constant(4),Add(Mul(Constant(4),$c),Mul(Constant(4),Mul(Constant(4),Mul(Constant(4),$b))))),Add($c,$c))\n",
      "[Pool +] Add($b,Sub($b,Mul(Constant(4),$b)))\n",
      "[Pool -] Mul(Constant(4),Mul(Constant(4),Mul(Constant(4),Mul($a,Mul($a,Mul(Mul(Constant(4),Add($c,Mul(Constant(4),$b))),$c))))))\n",
      "[Pool +] Mul(Mul(Mul(Constant(4),Mul(Constant(4),Add(Mul(Constant(4),Mul(Constant(4),$b)),$c))),Mul(Mul(Constant(4),$c),$a)),Mul(Constant(4),$a))\n",
      "[Pool -] Mul(Constant(4),Sub(Mul(Constant(4),$b),Sub($c,Add(Mul(Constant(4),$a),Mul(Constant(4),Sub($c,Mul(Constant(4),Mul(Constant(4),Mul(Constant(4),$a)))))))))\n",
      "[Pool +] Mul(Constant(4),Sub($a,Mul(Constant(4),Mul(Constant(4),Sub(Mul(Constant(4),$a),Add(Add(Mul(Constant(4),$b),Sub(Sub($b,$b),$c)),$a))))))\n",
      "[Pool -] Sub($b,Mul(Constant(4),Mul(Constant(4),Add(Sub(Mul(Constant(4),Mul(Constant(4),$b)),$c),$b))))\n"
     ]
    },
    {
     "name": "stdout",
     "output_type": "stream",
     "text": [
      "[Pool +] Mul($b,Mul(Constant(4),Add(Mul(Constant(4),Add($a,$c)),$b)))\n",
      "[Pool -] Mul(Constant(4),Mul(Mul(Constant(4),Mul(Constant(4),Mul(Constant(4),Mul($b,$b)))),Mul(Constant(4),Mul(Mul(Constant(4),Mul(Constant(4),Mul(Constant(4),$c))),$a))))\n",
      "-- RUNNING ITERATIONS START -------------\n",
      "[Pool +] Mul(Constant(4),Mul(Constant(4),Sub(Mul(Constant(4),$c),Mul(Constant(4),Sub(Mul(Constant(4),$b),$a)))))\n",
      "[Pool -] Mul(Constant(4),Mul(Constant(4),Mul(Mul(Constant(4),$a),Mul(Constant(4),Mul(Constant(4),Mul(Mul(Constant(4),$b),$b))))))\n",
      "[Pool +] Sub(Mul(Constant(4),$c),Mul(Constant(4),Sub(Mul(Constant(4),Sub(Sub(Mul(Constant(4),$b),$b),$b)),Add($b,$a))))\n",
      "[Pool -] Add($b,Mul(Constant(4),Mul(Constant(4),Sub(Mul(Constant(4),Mul(Constant(4),$a)),Sub($b,$c)))))\n",
      "[Pool +] Mul(Constant(4),Mul(Constant(4),Mul(Constant(4),Mul(Constant(4),Mul(Constant(4),Mul(Constant(4),Add(Mul(Constant(4),Add(Mul(Constant(4),$c),$c)),Mul(Constant(4),$a))))))))\n",
      "[Pool -] Sub(Mul(Constant(4),$c),Mul(Constant(4),Sub(Mul(Constant(4),Sub(Sub(Mul(Constant(4),$b),$b),$b)),Add($b,$a))))\n",
      "[Pool +] Mul(Constant(4),Add(Mul(Constant(4),$a),Add(Mul(Constant(4),$b),$c)))\n",
      "[Pool -] Mul(Constant(4),Mul(Constant(4),Mul(Mul(Constant(4),Mul(Constant(4),$b)),Mul(Constant(4),Mul(Constant(4),$c)))))\n",
      "-- RUNNING ITERATIONS START -------------\n",
      "[Pool +] Sub(Mul(Constant(4),Mul(Constant(4),Mul(Constant(4),Mul(Constant(4),$a)))),Mul(Constant(4),Add(Mul(Constant(4),$c),$a)))\n",
      "[Pool -] Add(Sub($b,$b),Mul(Constant(4),Mul(Constant(4),Mul(Constant(4),Mul($a,$b)))))\n",
      "[Pool +] Mul(Constant(4),Mul(Constant(4),Mul(Constant(4),Mul(Add($b,Mul(Constant(4),$a)),Mul(Constant(4),Mul(Constant(4),Mul($c,Sub($c,$a))))))))\n",
      "[Pool -] Mul(Mul(Mul(Constant(4),Mul(Constant(4),Add(Mul(Constant(4),Mul(Constant(4),$b)),$c))),Mul(Mul(Constant(4),$c),$a)),Mul(Constant(4),$a))\n",
      "[Pool +] Mul(Constant(4),Mul($b,Mul(Constant(4),Mul(Constant(4),Mul(Constant(4),Add(Sub(Add(Mul(Constant(4),$c),Mul(Constant(4),$b)),Mul(Constant(4),$b)),$a))))))\n",
      "[Pool -] Mul(Mul(Constant(4),Mul($b,Add(Sub(Mul(Constant(4),$c),Mul(Constant(4),$c)),Mul($a,$c)))),$c)\n",
      "[Pool +] Mul(Constant(4),Sub(Add(Mul(Constant(4),Add($c,Mul(Constant(4),Mul(Constant(4),Mul(Constant(4),$b))))),Mul(Constant(4),$a)),Sub($c,$a)))\n",
      "[Pool -] Mul(Constant(4),Mul(Mul(Constant(4),$a),Mul(Constant(4),Mul(Constant(4),Mul(Constant(4),Mul(Mul(Mul(Constant(4),$c),Sub(Mul(Constant(4),Sub($a,$a)),$a)),$b))))))\n",
      "[Pool +] Add(Add(Add($a,$c),Mul(Constant(4),Mul(Constant(4),$b))),Add($a,Mul(Constant(4),$c)))\n",
      "[Pool -] Mul(Constant(4),Mul(Constant(4),Mul(Constant(4),Mul(Mul(Constant(4),$a),$c))))\n",
      "-- RUNNING ITERATIONS START -------------\n",
      "[Pool +] Mul(Constant(4),Mul(Mul(Constant(4),Mul(Constant(4),Mul(Sub(Mul(Constant(4),Mul(Constant(4),$a)),$a),$c))),Sub(Mul(Constant(4),$a),$c)))\n",
      "[Pool -] Mul(Constant(4),Sub(Add(Mul(Constant(4),Add($c,Mul(Constant(4),Mul(Constant(4),Mul(Constant(4),$b))))),Mul(Constant(4),$a)),Sub($c,$a)))\n",
      "[Pool +] Sub(Add($b,$a),Mul(Constant(4),Sub(Sub($c,Mul(Constant(4),Mul(Constant(4),Mul(Constant(4),$b)))),$a)))\n",
      "[Pool -] Add(Add(Add($a,$c),Mul(Constant(4),Mul(Constant(4),$b))),Add($a,Mul(Constant(4),$c)))\n",
      "[Pool +] Mul(Constant(4),Mul(Constant(4),Sub(Mul(Constant(4),$c),Mul(Constant(4),Add(Mul(Constant(4),Sub(Mul(Constant(4),Mul(Constant(4),$b)),Add(Sub($c,$a),$b))),$a)))))\n",
      "[Pool -] Sub(Mul(Constant(4),$c),Mul(Constant(4),Mul(Constant(4),Mul(Constant(4),Sub(Sub(Mul(Constant(4),Mul(Constant(4),$c)),$a),$b)))))\n",
      "[Pool +] Mul(Constant(4),Mul(Constant(4),Mul(Constant(4),Mul(Mul(Constant(4),Mul(Constant(4),Mul(Constant(4),$a))),Mul(Mul($a,Mul($c,$b)),$c)))))\n",
      "[Pool -] Sub(Mul(Constant(4),Mul(Constant(4),Mul(Constant(4),Mul(Constant(4),$a)))),Mul(Constant(4),Add(Mul(Constant(4),$c),$a)))\n",
      "-- RUNNING ITERATIONS START -------------\n",
      "[Pool +] Mul(Add($c,$a),Sub(Mul(Constant(4),Sub($b,Mul(Constant(4),Mul(Constant(4),Add($c,Mul(Constant(4),Sub(Mul(Constant(4),$a),$c))))))),$a))\n",
      "[Pool -] Mul(Constant(4),Add(Mul(Constant(4),$a),Add(Mul(Constant(4),$b),$c)))\n",
      "[Pool +] Mul(Constant(4),Mul(Mul(Constant(4),Sub($a,Add(Mul(Constant(4),Add($c,Mul(Constant(4),$a))),$b))),Mul(Constant(4),Mul(Constant(4),$b))))\n",
      "[Pool -] Mul(Constant(4),Mul(Constant(4),Sub(Mul(Constant(4),$c),Mul(Constant(4),Sub(Mul(Constant(4),$b),$a)))))\n",
      "-- RUNNING ITERATIONS START -------------\n",
      "[Pool +] Sub(Sub(Mul(Constant(4),Sub(Add($a,$a),Mul(Constant(4),$a))),Mul(Constant(4),$c)),Mul(Constant(4),Mul(Constant(4),$c)))\n",
      "[Pool -] Mul(Constant(4),Mul($b,Mul(Constant(4),Mul(Constant(4),Mul(Constant(4),Add(Sub(Add(Mul(Constant(4),$c),Mul(Constant(4),$b)),Mul(Constant(4),$b)),$a))))))\n",
      "[00:00:00:01.25] Training iteration 8, current best R: 0.9961\n",
      "\n",
      "\t** New best\n",
      "\tReward: 0.996116042137146\n",
      "\tCount Off-policy: 0\n",
      "\tCount On-policy: 1\n",
      "\tOriginally on Policy: True\n",
      "\tInvalid: False\n",
      "\tTraversal: Sub,Sub,4,Sub,Add,x1,a,4,a,4,x3,4,4,x3\n",
      "\tExpression:\n",
      "\t  Sub(Sub(4(Sub(Add(x1,a),4(a))),4(x3)),4(4(x3)))\n",
      "\n",
      "-- RUNNING ITERATIONS START -------------\n",
      "-- RUNNING ITERATIONS START -------------\n",
      "[Pool +] Mul(Constant(4),Mul(Constant(4),Mul(Mul(Constant(4),Mul(Mul(Mul(Constant(4),Mul(Constant(4),Add(Mul(Constant(4),$a),Mul(Constant(4),Mul(Constant(4),$c))))),Mul(Constant(4),$c)),$a)),$b)))\n",
      "[Pool -] Mul(Constant(4),Mul(Mul(Constant(4),Sub($a,Add(Mul(Constant(4),Add($c,Mul(Constant(4),$a))),$b))),Mul(Constant(4),Mul(Constant(4),$b))))\n",
      "[00:00:00:01.47] Training iteration 10, current best R: 0.9961\n",
      "{}\n"
     ]
    }
   ],
   "source": [
    "# Create the model\n",
    "model = DeepSymbolicRegressor(config=config)\n",
    "model.fit(X, y)\n",
    "\n",
    "print(ev.results)"
   ]
  },
  {
   "cell_type": "code",
   "execution_count": null,
   "id": "e79dc5d1",
   "metadata": {},
   "outputs": [],
   "source": []
  },
  {
   "cell_type": "code",
   "execution_count": 18,
   "id": "1d835ec2",
   "metadata": {},
   "outputs": [
    {
     "name": "stdout",
     "output_type": "stream",
     "text": [
      "2.0.1+cpu\n"
     ]
    }
   ],
   "source": []
  },
  {
   "cell_type": "code",
   "execution_count": null,
   "id": "f1ce6073",
   "metadata": {},
   "outputs": [],
   "source": []
  }
 ],
 "metadata": {
  "kernelspec": {
   "display_name": "Python 3 (ipykernel)",
   "language": "python",
   "name": "python3"
  },
  "language_info": {
   "codemirror_mode": {
    "name": "ipython",
    "version": 3
   },
   "file_extension": ".py",
   "mimetype": "text/x-python",
   "name": "python",
   "nbconvert_exporter": "python",
   "pygments_lexer": "ipython3",
   "version": "3.9.15"
  }
 },
 "nbformat": 4,
 "nbformat_minor": 5
}
