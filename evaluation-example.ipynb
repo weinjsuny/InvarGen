{
 "cells": [
  {
   "cell_type": "code",
   "execution_count": 1,
   "id": "10693aff",
   "metadata": {},
   "outputs": [],
   "source": [
    "import json\n",
    "import os\n",
    "from collections import Counter\n",
    "\n",
    "import numpy as np"
   ]
  },
  {
   "cell_type": "code",
   "execution_count": 2,
   "id": "3bacffae",
   "metadata": {},
   "outputs": [],
   "source": [
    "from invargen.data.expression import *\n",
    "from invargen.data.tokens import *\n",
    "from invargen.data.tree import *"
   ]
  },
  {
   "cell_type": "code",
   "execution_count": 3,
   "id": "624feac5",
   "metadata": {},
   "outputs": [],
   "source": [
    "from invargen.data.expression import *\n",
    "from invargen_generic.operators import funcs as generic_funcs\n",
    "from invargen_generic.features import *"
   ]
  },
  {
   "cell_type": "code",
   "execution_count": 4,
   "id": "1110c7cb",
   "metadata": {},
   "outputs": [],
   "source": [
    "import torch\n",
    "from torch import Tensor\n",
    "\n",
    "cache = {}\n",
    "\n",
    "device = torch.device('cpu')"
   ]
  },
  {
   "cell_type": "code",
   "execution_count": 5,
   "id": "84ca40f8",
   "metadata": {},
   "outputs": [],
   "source": [
    "from invargen_qlib.poly_data import PolyData\n",
    "\n",
    "data = PolyData(device=device)"
   ]
  },
  {
   "cell_type": "code",
   "execution_count": 6,
   "id": "7300b2cf",
   "metadata": {},
   "outputs": [
    {
     "data": {
      "text/plain": [
       "tensor([[[  1.,   1.,   1.,  ...,  49.,  51.,  51.],\n",
       "         [  0.,   1.,   0.,  ...,   1., -35.,  35.],\n",
       "         [  1.,   2.,   2.,  ...,  51.,  55.,  55.]]])"
      ]
     },
     "execution_count": 6,
     "metadata": {},
     "output_type": "execute_result"
    }
   ],
   "source": [
    "data.data"
   ]
  },
  {
   "cell_type": "code",
   "execution_count": 7,
   "id": "994c4640",
   "metadata": {},
   "outputs": [
    {
     "data": {
      "text/plain": [
       "tensor([[-4.0000e+00, -7.0000e+00, -8.0000e+00,  ..., -9.9950e+03,\n",
       "         -9.9950e+03, -9.9950e+03]])"
      ]
     },
     "execution_count": 7,
     "metadata": {},
     "output_type": "execute_result"
    }
   ],
   "source": [
    "b = Feature(FeatureType.B)\n",
    "c = Feature(FeatureType.C)\n",
    "a = Feature(FeatureType.A)\n",
    "\n",
    "exprs = b**2 - 4 * a * c\n",
    "\n",
    "exprs.evaluate(data)"
   ]
  },
  {
   "cell_type": "code",
   "execution_count": null,
   "id": "b2a75592",
   "metadata": {},
   "outputs": [],
   "source": []
  },
  {
   "cell_type": "code",
   "execution_count": null,
   "id": "b9edd40e",
   "metadata": {},
   "outputs": [],
   "source": []
  },
  {
   "cell_type": "code",
   "execution_count": null,
   "id": "e79dc5d1",
   "metadata": {},
   "outputs": [],
   "source": []
  }
 ],
 "metadata": {
  "kernelspec": {
   "display_name": "Python 3 (ipykernel)",
   "language": "python",
   "name": "python3"
  },
  "language_info": {
   "codemirror_mode": {
    "name": "ipython",
    "version": 3
   },
   "file_extension": ".py",
   "mimetype": "text/x-python",
   "name": "python",
   "nbconvert_exporter": "python",
   "pygments_lexer": "ipython3",
   "version": "3.9.15"
  }
 },
 "nbformat": 4,
 "nbformat_minor": 5
}
